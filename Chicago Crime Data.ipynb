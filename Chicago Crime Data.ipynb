{
 "cells": [
  {
   "cell_type": "code",
   "execution_count": 1,
   "id": "9e32c672",
   "metadata": {},
   "outputs": [],
   "source": [
    "import pandas as pd\n",
    "import matplotlib.pyplot as plt\n",
    "import pandas as pd\n",
    "import numpy as np\n",
    "from datetime import datetime as dt\n",
    "pd.options.mode.chained_assignment = None  # default='warn'\n",
    "crimes= pd.read_csv(\"Downloads/Crimes_-_2001_to_Present_20250215.csv\")"
   ]
  },
  {
   "cell_type": "markdown",
   "id": "55165df6",
   "metadata": {},
   "source": [
    "# Abstract"
   ]
  },
  {
   "cell_type": "markdown",
   "id": "35965fd0",
   "metadata": {},
   "source": [
    "I will be conducting an **Exploratory Data Analysis** on crime in Chicago from 2020 to 2024. \n",
    "My goals are to : \n",
    "1. Document the most common type of crime \n",
    "\n",
    "2. Explore the correlation of crime to time and month \n",
    "\n",
    "3. Report on the frequency of dangerous crime \n",
    "- Explore homicide \n",
    "    \n",
    "4. Identifying Crime Frequency of Chicago neighborhoods using Aldermanic Ward data\n",
    "\n",
    " "
   ]
  },
  {
   "cell_type": "markdown",
   "id": "1d1832c3",
   "metadata": {},
   "source": [
    "# Exploring The Dataset"
   ]
  },
  {
   "cell_type": "code",
   "execution_count": 2,
   "id": "7e2b1f2f",
   "metadata": {
    "scrolled": true
   },
   "outputs": [
    {
     "data": {
      "text/plain": [
       "(8257275, 22)"
      ]
     },
     "execution_count": 2,
     "metadata": {},
     "output_type": "execute_result"
    }
   ],
   "source": [
    "crimes.shape "
   ]
  },
  {
   "cell_type": "code",
   "execution_count": 3,
   "id": "ce873ef5",
   "metadata": {
    "scrolled": true
   },
   "outputs": [
    {
     "name": "stdout",
     "output_type": "stream",
     "text": [
      "<class 'pandas.core.frame.DataFrame'>\n",
      "RangeIndex: 8257275 entries, 0 to 8257274\n",
      "Data columns (total 22 columns):\n",
      " #   Column                Dtype  \n",
      "---  ------                -----  \n",
      " 0   ID                    int64  \n",
      " 1   Case Number           object \n",
      " 2   Date                  object \n",
      " 3   Block                 object \n",
      " 4   IUCR                  object \n",
      " 5   Primary Type          object \n",
      " 6   Description           object \n",
      " 7   Location Description  object \n",
      " 8   Arrest                bool   \n",
      " 9   Domestic              bool   \n",
      " 10  Beat                  int64  \n",
      " 11  District              float64\n",
      " 12  Ward                  float64\n",
      " 13  Community Area        float64\n",
      " 14  FBI Code              object \n",
      " 15  X Coordinate          float64\n",
      " 16  Y Coordinate          float64\n",
      " 17  Year                  int64  \n",
      " 18  Updated On            object \n",
      " 19  Latitude              float64\n",
      " 20  Longitude             float64\n",
      " 21  Location              object \n",
      "dtypes: bool(2), float64(7), int64(3), object(10)\n",
      "memory usage: 1.2+ GB\n"
     ]
    }
   ],
   "source": [
    "crimes.info()"
   ]
  },
  {
   "cell_type": "code",
   "execution_count": 4,
   "id": "b9ab8cd9",
   "metadata": {},
   "outputs": [
    {
     "data": {
      "text/html": [
       "<div>\n",
       "<style scoped>\n",
       "    .dataframe tbody tr th:only-of-type {\n",
       "        vertical-align: middle;\n",
       "    }\n",
       "\n",
       "    .dataframe tbody tr th {\n",
       "        vertical-align: top;\n",
       "    }\n",
       "\n",
       "    .dataframe thead th {\n",
       "        text-align: right;\n",
       "    }\n",
       "</style>\n",
       "<table border=\"1\" class=\"dataframe\">\n",
       "  <thead>\n",
       "    <tr style=\"text-align: right;\">\n",
       "      <th></th>\n",
       "      <th>ID</th>\n",
       "      <th>Case Number</th>\n",
       "      <th>Date</th>\n",
       "      <th>Block</th>\n",
       "      <th>IUCR</th>\n",
       "      <th>Primary Type</th>\n",
       "      <th>Description</th>\n",
       "      <th>Location Description</th>\n",
       "      <th>Arrest</th>\n",
       "      <th>Domestic</th>\n",
       "      <th>...</th>\n",
       "      <th>Ward</th>\n",
       "      <th>Community Area</th>\n",
       "      <th>FBI Code</th>\n",
       "      <th>X Coordinate</th>\n",
       "      <th>Y Coordinate</th>\n",
       "      <th>Year</th>\n",
       "      <th>Updated On</th>\n",
       "      <th>Latitude</th>\n",
       "      <th>Longitude</th>\n",
       "      <th>Location</th>\n",
       "    </tr>\n",
       "  </thead>\n",
       "  <tbody>\n",
       "    <tr>\n",
       "      <th>0</th>\n",
       "      <td>13311263</td>\n",
       "      <td>JG503434</td>\n",
       "      <td>07/29/2022 03:39:00 AM</td>\n",
       "      <td>023XX S TROY ST</td>\n",
       "      <td>1582</td>\n",
       "      <td>OFFENSE INVOLVING CHILDREN</td>\n",
       "      <td>CHILD PORNOGRAPHY</td>\n",
       "      <td>RESIDENCE</td>\n",
       "      <td>True</td>\n",
       "      <td>False</td>\n",
       "      <td>...</td>\n",
       "      <td>25.0</td>\n",
       "      <td>30.0</td>\n",
       "      <td>17</td>\n",
       "      <td>NaN</td>\n",
       "      <td>NaN</td>\n",
       "      <td>2022</td>\n",
       "      <td>04/18/2024 03:40:59 PM</td>\n",
       "      <td>NaN</td>\n",
       "      <td>NaN</td>\n",
       "      <td>NaN</td>\n",
       "    </tr>\n",
       "    <tr>\n",
       "      <th>1</th>\n",
       "      <td>13053066</td>\n",
       "      <td>JG103252</td>\n",
       "      <td>01/03/2023 04:44:00 PM</td>\n",
       "      <td>039XX W WASHINGTON BLVD</td>\n",
       "      <td>2017</td>\n",
       "      <td>NARCOTICS</td>\n",
       "      <td>MANUFACTURE / DELIVER - CRACK</td>\n",
       "      <td>SIDEWALK</td>\n",
       "      <td>True</td>\n",
       "      <td>False</td>\n",
       "      <td>...</td>\n",
       "      <td>28.0</td>\n",
       "      <td>26.0</td>\n",
       "      <td>18</td>\n",
       "      <td>NaN</td>\n",
       "      <td>NaN</td>\n",
       "      <td>2023</td>\n",
       "      <td>01/20/2024 03:41:12 PM</td>\n",
       "      <td>NaN</td>\n",
       "      <td>NaN</td>\n",
       "      <td>NaN</td>\n",
       "    </tr>\n",
       "    <tr>\n",
       "      <th>2</th>\n",
       "      <td>11227634</td>\n",
       "      <td>JB147599</td>\n",
       "      <td>08/26/2017 10:00:00 AM</td>\n",
       "      <td>001XX W RANDOLPH ST</td>\n",
       "      <td>0281</td>\n",
       "      <td>CRIM SEXUAL ASSAULT</td>\n",
       "      <td>NON-AGGRAVATED</td>\n",
       "      <td>HOTEL/MOTEL</td>\n",
       "      <td>False</td>\n",
       "      <td>False</td>\n",
       "      <td>...</td>\n",
       "      <td>42.0</td>\n",
       "      <td>32.0</td>\n",
       "      <td>02</td>\n",
       "      <td>NaN</td>\n",
       "      <td>NaN</td>\n",
       "      <td>2017</td>\n",
       "      <td>02/11/2018 03:57:41 PM</td>\n",
       "      <td>NaN</td>\n",
       "      <td>NaN</td>\n",
       "      <td>NaN</td>\n",
       "    </tr>\n",
       "    <tr>\n",
       "      <th>3</th>\n",
       "      <td>13203321</td>\n",
       "      <td>JG415333</td>\n",
       "      <td>09/06/2023 05:00:00 PM</td>\n",
       "      <td>002XX N Wells st</td>\n",
       "      <td>1320</td>\n",
       "      <td>CRIMINAL DAMAGE</td>\n",
       "      <td>TO VEHICLE</td>\n",
       "      <td>PARKING LOT / GARAGE (NON RESIDENTIAL)</td>\n",
       "      <td>False</td>\n",
       "      <td>False</td>\n",
       "      <td>...</td>\n",
       "      <td>42.0</td>\n",
       "      <td>32.0</td>\n",
       "      <td>14</td>\n",
       "      <td>1174694.0</td>\n",
       "      <td>1901831.0</td>\n",
       "      <td>2023</td>\n",
       "      <td>11/04/2023 03:40:18 PM</td>\n",
       "      <td>41.886018</td>\n",
       "      <td>-87.633938</td>\n",
       "      <td>(41.886018055, -87.633937881)</td>\n",
       "    </tr>\n",
       "    <tr>\n",
       "      <th>4</th>\n",
       "      <td>13204489</td>\n",
       "      <td>JG416325</td>\n",
       "      <td>09/06/2023 11:00:00 AM</td>\n",
       "      <td>0000X E 8TH ST</td>\n",
       "      <td>0810</td>\n",
       "      <td>THEFT</td>\n",
       "      <td>OVER $500</td>\n",
       "      <td>PARKING LOT / GARAGE (NON RESIDENTIAL)</td>\n",
       "      <td>False</td>\n",
       "      <td>False</td>\n",
       "      <td>...</td>\n",
       "      <td>4.0</td>\n",
       "      <td>32.0</td>\n",
       "      <td>06</td>\n",
       "      <td>1176857.0</td>\n",
       "      <td>1896680.0</td>\n",
       "      <td>2023</td>\n",
       "      <td>11/04/2023 03:40:18 PM</td>\n",
       "      <td>41.871835</td>\n",
       "      <td>-87.626151</td>\n",
       "      <td>(41.871834768, -87.62615082)</td>\n",
       "    </tr>\n",
       "  </tbody>\n",
       "</table>\n",
       "<p>5 rows × 22 columns</p>\n",
       "</div>"
      ],
      "text/plain": [
       "         ID Case Number                    Date                    Block  \\\n",
       "0  13311263    JG503434  07/29/2022 03:39:00 AM          023XX S TROY ST   \n",
       "1  13053066    JG103252  01/03/2023 04:44:00 PM  039XX W WASHINGTON BLVD   \n",
       "2  11227634    JB147599  08/26/2017 10:00:00 AM      001XX W RANDOLPH ST   \n",
       "3  13203321    JG415333  09/06/2023 05:00:00 PM         002XX N Wells st   \n",
       "4  13204489    JG416325  09/06/2023 11:00:00 AM           0000X E 8TH ST   \n",
       "\n",
       "   IUCR                Primary Type                    Description  \\\n",
       "0  1582  OFFENSE INVOLVING CHILDREN              CHILD PORNOGRAPHY   \n",
       "1  2017                   NARCOTICS  MANUFACTURE / DELIVER - CRACK   \n",
       "2  0281         CRIM SEXUAL ASSAULT                 NON-AGGRAVATED   \n",
       "3  1320             CRIMINAL DAMAGE                     TO VEHICLE   \n",
       "4  0810                       THEFT                      OVER $500   \n",
       "\n",
       "                     Location Description  Arrest  Domestic  ...  Ward  \\\n",
       "0                               RESIDENCE    True     False  ...  25.0   \n",
       "1                                SIDEWALK    True     False  ...  28.0   \n",
       "2                             HOTEL/MOTEL   False     False  ...  42.0   \n",
       "3  PARKING LOT / GARAGE (NON RESIDENTIAL)   False     False  ...  42.0   \n",
       "4  PARKING LOT / GARAGE (NON RESIDENTIAL)   False     False  ...   4.0   \n",
       "\n",
       "   Community Area  FBI Code  X Coordinate Y Coordinate  Year  \\\n",
       "0            30.0        17           NaN          NaN  2022   \n",
       "1            26.0        18           NaN          NaN  2023   \n",
       "2            32.0        02           NaN          NaN  2017   \n",
       "3            32.0        14     1174694.0    1901831.0  2023   \n",
       "4            32.0        06     1176857.0    1896680.0  2023   \n",
       "\n",
       "               Updated On   Latitude  Longitude                       Location  \n",
       "0  04/18/2024 03:40:59 PM        NaN        NaN                            NaN  \n",
       "1  01/20/2024 03:41:12 PM        NaN        NaN                            NaN  \n",
       "2  02/11/2018 03:57:41 PM        NaN        NaN                            NaN  \n",
       "3  11/04/2023 03:40:18 PM  41.886018 -87.633938  (41.886018055, -87.633937881)  \n",
       "4  11/04/2023 03:40:18 PM  41.871835 -87.626151   (41.871834768, -87.62615082)  \n",
       "\n",
       "[5 rows x 22 columns]"
      ]
     },
     "execution_count": 4,
     "metadata": {},
     "output_type": "execute_result"
    }
   ],
   "source": [
    "crimes.head() #first 5 rows of the data"
   ]
  },
  {
   "cell_type": "markdown",
   "id": "ada3eb25",
   "metadata": {},
   "source": [
    "## Dealing with Null Values"
   ]
  },
  {
   "cell_type": "code",
   "execution_count": 5,
   "id": "ae0db38f",
   "metadata": {
    "scrolled": true
   },
   "outputs": [
    {
     "data": {
      "text/plain": [
       "ID                           0\n",
       "Case Number                  0\n",
       "Date                         0\n",
       "Block                        0\n",
       "IUCR                         0\n",
       "Primary Type                 0\n",
       "Description                  0\n",
       "Location Description     13961\n",
       "Arrest                       0\n",
       "Domestic                     0\n",
       "Beat                         0\n",
       "District                    47\n",
       "Ward                    614827\n",
       "Community Area          613453\n",
       "FBI Code                     0\n",
       "X Coordinate             91435\n",
       "Y Coordinate             91435\n",
       "Year                         0\n",
       "Updated On                   0\n",
       "Latitude                 91435\n",
       "Longitude                91435\n",
       "Location                 91435\n",
       "dtype: int64"
      ]
     },
     "execution_count": 5,
     "metadata": {},
     "output_type": "execute_result"
    }
   ],
   "source": [
    "crimes.isna().sum()"
   ]
  },
  {
   "cell_type": "markdown",
   "id": "fcd68aea",
   "metadata": {},
   "source": [
    "The values I am concerned about are in the Ward column. The columns with 91,435 values missing represent geographic location, and I won't use them for my analysis. However, I will use the location columns to retrieve missing values for the ward columns if possible."
   ]
  },
  {
   "cell_type": "markdown",
   "id": "8f6eb8b5",
   "metadata": {},
   "source": [
    "# Sorting Data to The Last 5 Years "
   ]
  },
  {
   "cell_type": "code",
   "execution_count": 11,
   "id": "96b057a7",
   "metadata": {},
   "outputs": [],
   "source": [
    "crimes['Date']= pd.to_datetime(crimes['Date']) #converting date column to datetime "
   ]
  },
  {
   "cell_type": "code",
   "execution_count": 12,
   "id": "9bc73e7b",
   "metadata": {},
   "outputs": [],
   "source": [
    "years = [2020,2021,2022,2023,2024] \n",
    "five_yr_crimes = crimes[crimes['Date'].dt.year.isin(years)]"
   ]
  },
  {
   "cell_type": "code",
   "execution_count": 13,
   "id": "90a526be",
   "metadata": {
    "scrolled": false
   },
   "outputs": [
    {
     "data": {
      "text/plain": [
       "(1181727, 22)"
      ]
     },
     "execution_count": 13,
     "metadata": {},
     "output_type": "execute_result"
    }
   ],
   "source": [
    "five_yr_crimes.shape #confirming dataframe change"
   ]
  },
  {
   "cell_type": "markdown",
   "id": "1c2bf802",
   "metadata": {},
   "source": [
    "## Filling Missing Values for Wards and Police District"
   ]
  },
  {
   "cell_type": "code",
   "execution_count": 14,
   "id": "3462c25d",
   "metadata": {
    "scrolled": true
   },
   "outputs": [
    {
     "data": {
      "text/plain": [
       "ID                          0\n",
       "Case Number                 0\n",
       "Date                        0\n",
       "Block                       0\n",
       "IUCR                        0\n",
       "Primary Type                0\n",
       "Description                 0\n",
       "Location Description     6392\n",
       "Arrest                      0\n",
       "Domestic                    0\n",
       "Beat                        0\n",
       "District                    0\n",
       "Ward                       33\n",
       "Community Area              4\n",
       "FBI Code                    0\n",
       "X Coordinate            17605\n",
       "Y Coordinate            17605\n",
       "Year                        0\n",
       "Updated On                  0\n",
       "Latitude                17605\n",
       "Longitude               17605\n",
       "Location                17605\n",
       "dtype: int64"
      ]
     },
     "execution_count": 14,
     "metadata": {},
     "output_type": "execute_result"
    }
   ],
   "source": [
    "five_yr_crimes.isna().sum()"
   ]
  },
  {
   "cell_type": "markdown",
   "id": "8c212a1d",
   "metadata": {},
   "source": [
    "The Ward column has 33 missing values. It is not much, but I would like to be as accurate as possible when exploring the dataset. Using Google Maps, I can use the location columns from the dataset to identify the geographic location of the crime and determine which aldermanic ward the missing value pertains to.  "
   ]
  },
  {
   "cell_type": "code",
   "execution_count": 15,
   "id": "eca338c6",
   "metadata": {
    "scrolled": true
   },
   "outputs": [],
   "source": [
    "ward_missing_bool = five_yr_crimes[\"Ward\"].isna() #missing ward values\n",
    "ward_missing= five_yr_crimes[ward_missing_bool] # isolate the dataset with the missing values\n",
    "Howard_missing = ward_missing[ward_missing['Block'].str.contains(\"HOWARD ST\")] #many values contained Howard ST"
   ]
  },
  {
   "cell_type": "markdown",
   "id": "ae6e618a",
   "metadata": {},
   "source": [
    "The values with block information containing \"Howard St\"  all have the same location. A google maps search indicated that the location is in the Donalds Addition and Rogers Park neighborhood which is the 49th ward and is the 24th police district. The next step is to replace the null values with that information "
   ]
  },
  {
   "cell_type": "code",
   "execution_count": 16,
   "id": "d6e83f8e",
   "metadata": {
    "scrolled": false
   },
   "outputs": [],
   "source": [
    "Howard_missing[\"Ward\"]= Howard_missing[\"Ward\"].fillna(49.0) #fill in ward missing values\n",
    "Howard_missing[\"District\"]= Howard_missing[\"District\"].fillna(24.0) #fill in district missing values\n"
   ]
  },
  {
   "cell_type": "code",
   "execution_count": 17,
   "id": "2bbe9611",
   "metadata": {
    "scrolled": false
   },
   "outputs": [
    {
     "data": {
      "text/plain": [
       "ID                          0\n",
       "Case Number                 0\n",
       "Date                        0\n",
       "Block                       0\n",
       "IUCR                        0\n",
       "Primary Type                0\n",
       "Description                 0\n",
       "Location Description     6392\n",
       "Arrest                      0\n",
       "Domestic                    0\n",
       "Beat                        0\n",
       "District                    0\n",
       "Ward                       19\n",
       "Community Area              4\n",
       "FBI Code                    0\n",
       "X Coordinate            17605\n",
       "Y Coordinate            17605\n",
       "Year                        0\n",
       "Updated On                  0\n",
       "Latitude                17605\n",
       "Longitude               17605\n",
       "Location                17605\n",
       "dtype: int64"
      ]
     },
     "execution_count": 17,
     "metadata": {},
     "output_type": "execute_result"
    }
   ],
   "source": [
    "missing_values = Howard_missing[\"Ward\"]\n",
    "five_yr_crimes[\"Ward\"] = five_yr_crimes[\"Ward\"].fillna(missing_values)\n",
    "five_yr_crimes.isna().sum()"
   ]
  },
  {
   "cell_type": "markdown",
   "id": "51c7b265",
   "metadata": {},
   "source": [
    "There are still 19 values missing. So, I will repeat the same process for the rest of the missing values."
   ]
  },
  {
   "cell_type": "code",
   "execution_count": 18,
   "id": "b8bb3b50",
   "metadata": {},
   "outputs": [
    {
     "data": {
      "text/html": [
       "<div>\n",
       "<style scoped>\n",
       "    .dataframe tbody tr th:only-of-type {\n",
       "        vertical-align: middle;\n",
       "    }\n",
       "\n",
       "    .dataframe tbody tr th {\n",
       "        vertical-align: top;\n",
       "    }\n",
       "\n",
       "    .dataframe thead th {\n",
       "        text-align: right;\n",
       "    }\n",
       "</style>\n",
       "<table border=\"1\" class=\"dataframe\">\n",
       "  <thead>\n",
       "    <tr style=\"text-align: right;\">\n",
       "      <th></th>\n",
       "      <th>ID</th>\n",
       "      <th>Case Number</th>\n",
       "      <th>Date</th>\n",
       "      <th>Block</th>\n",
       "      <th>IUCR</th>\n",
       "      <th>Primary Type</th>\n",
       "      <th>Description</th>\n",
       "      <th>Location Description</th>\n",
       "      <th>Arrest</th>\n",
       "      <th>Domestic</th>\n",
       "      <th>...</th>\n",
       "      <th>Ward</th>\n",
       "      <th>Community Area</th>\n",
       "      <th>FBI Code</th>\n",
       "      <th>X Coordinate</th>\n",
       "      <th>Y Coordinate</th>\n",
       "      <th>Year</th>\n",
       "      <th>Updated On</th>\n",
       "      <th>Latitude</th>\n",
       "      <th>Longitude</th>\n",
       "      <th>Location</th>\n",
       "    </tr>\n",
       "  </thead>\n",
       "  <tbody>\n",
       "    <tr>\n",
       "      <th>113557</th>\n",
       "      <td>12063729</td>\n",
       "      <td>JD247834</td>\n",
       "      <td>2020-05-30 19:00:00</td>\n",
       "      <td>069XX N NORTHWEST HWY</td>\n",
       "      <td>0460</td>\n",
       "      <td>BATTERY</td>\n",
       "      <td>SIMPLE</td>\n",
       "      <td>RESIDENCE</td>\n",
       "      <td>False</td>\n",
       "      <td>False</td>\n",
       "      <td>...</td>\n",
       "      <td>NaN</td>\n",
       "      <td>9.0</td>\n",
       "      <td>08B</td>\n",
       "      <td>1123402.0</td>\n",
       "      <td>1945216.0</td>\n",
       "      <td>2020</td>\n",
       "      <td>06/06/2020 03:41:51 PM</td>\n",
       "      <td>42.006065</td>\n",
       "      <td>-87.821345</td>\n",
       "      <td>(42.006064572, -87.821344766)</td>\n",
       "    </tr>\n",
       "    <tr>\n",
       "      <th>7195813</th>\n",
       "      <td>12098241</td>\n",
       "      <td>JD288382</td>\n",
       "      <td>2020-07-06 16:15:00</td>\n",
       "      <td>081XX W BALMORAL AVE</td>\n",
       "      <td>5000</td>\n",
       "      <td>OTHER OFFENSE</td>\n",
       "      <td>OTHER CRIME AGAINST PERSON</td>\n",
       "      <td>RESIDENCE</td>\n",
       "      <td>False</td>\n",
       "      <td>True</td>\n",
       "      <td>...</td>\n",
       "      <td>NaN</td>\n",
       "      <td>10.0</td>\n",
       "      <td>26</td>\n",
       "      <td>1120845.0</td>\n",
       "      <td>1934989.0</td>\n",
       "      <td>2020</td>\n",
       "      <td>09/07/2021 03:41:02 PM</td>\n",
       "      <td>41.978042</td>\n",
       "      <td>-87.830973</td>\n",
       "      <td>(41.978042171, -87.83097323)</td>\n",
       "    </tr>\n",
       "    <tr>\n",
       "      <th>7301699</th>\n",
       "      <td>12132469</td>\n",
       "      <td>JD328823</td>\n",
       "      <td>2020-08-08 10:30:00</td>\n",
       "      <td>065XX N HARLEM AVE</td>\n",
       "      <td>0820</td>\n",
       "      <td>THEFT</td>\n",
       "      <td>$500 AND UNDER</td>\n",
       "      <td>RESIDENCE</td>\n",
       "      <td>False</td>\n",
       "      <td>False</td>\n",
       "      <td>...</td>\n",
       "      <td>NaN</td>\n",
       "      <td>10.0</td>\n",
       "      <td>06</td>\n",
       "      <td>1127377.0</td>\n",
       "      <td>1943106.0</td>\n",
       "      <td>2020</td>\n",
       "      <td>08/15/2020 03:43:11 PM</td>\n",
       "      <td>42.000208</td>\n",
       "      <td>-87.806768</td>\n",
       "      <td>(42.000208379, -87.806767692)</td>\n",
       "    </tr>\n",
       "    <tr>\n",
       "      <th>7315771</th>\n",
       "      <td>12115945</td>\n",
       "      <td>JD309190</td>\n",
       "      <td>2020-07-25 06:33:00</td>\n",
       "      <td>007XX W OHARE ST</td>\n",
       "      <td>1335</td>\n",
       "      <td>CRIMINAL TRESPASS</td>\n",
       "      <td>TO AIRPORT</td>\n",
       "      <td>AIRPORT EXTERIOR - SECURE AREA</td>\n",
       "      <td>False</td>\n",
       "      <td>False</td>\n",
       "      <td>...</td>\n",
       "      <td>NaN</td>\n",
       "      <td>76.0</td>\n",
       "      <td>26</td>\n",
       "      <td>1094587.0</td>\n",
       "      <td>1945065.0</td>\n",
       "      <td>2020</td>\n",
       "      <td>08/01/2020 03:41:55 PM</td>\n",
       "      <td>42.006074</td>\n",
       "      <td>-87.927365</td>\n",
       "      <td>(42.006074109, -87.927364891)</td>\n",
       "    </tr>\n",
       "    <tr>\n",
       "      <th>7333063</th>\n",
       "      <td>12379848</td>\n",
       "      <td>JE247753</td>\n",
       "      <td>2021-05-29 00:00:00</td>\n",
       "      <td>081XX W BALMORAL AVE</td>\n",
       "      <td>0486</td>\n",
       "      <td>BATTERY</td>\n",
       "      <td>DOMESTIC BATTERY SIMPLE</td>\n",
       "      <td>APARTMENT</td>\n",
       "      <td>False</td>\n",
       "      <td>True</td>\n",
       "      <td>...</td>\n",
       "      <td>NaN</td>\n",
       "      <td>10.0</td>\n",
       "      <td>08B</td>\n",
       "      <td>1120930.0</td>\n",
       "      <td>1934992.0</td>\n",
       "      <td>2021</td>\n",
       "      <td>06/05/2021 03:40:05 PM</td>\n",
       "      <td>41.978049</td>\n",
       "      <td>-87.830661</td>\n",
       "      <td>(41.978049035, -87.830660569)</td>\n",
       "    </tr>\n",
       "    <tr>\n",
       "      <th>7362466</th>\n",
       "      <td>12278031</td>\n",
       "      <td>JE122753</td>\n",
       "      <td>2021-01-25 00:00:00</td>\n",
       "      <td>081XX W BALMORAL AVE</td>\n",
       "      <td>1154</td>\n",
       "      <td>DECEPTIVE PRACTICE</td>\n",
       "      <td>FINANCIAL IDENTITY THEFT $300 AND UNDER</td>\n",
       "      <td>RESIDENCE</td>\n",
       "      <td>False</td>\n",
       "      <td>False</td>\n",
       "      <td>...</td>\n",
       "      <td>NaN</td>\n",
       "      <td>10.0</td>\n",
       "      <td>11</td>\n",
       "      <td>1120942.0</td>\n",
       "      <td>1934992.0</td>\n",
       "      <td>2021</td>\n",
       "      <td>02/19/2021 03:39:34 PM</td>\n",
       "      <td>41.978049</td>\n",
       "      <td>-87.830616</td>\n",
       "      <td>(41.978048841, -87.830616438)</td>\n",
       "    </tr>\n",
       "    <tr>\n",
       "      <th>7397663</th>\n",
       "      <td>12244910</td>\n",
       "      <td>JD458899</td>\n",
       "      <td>2020-12-14 13:09:00</td>\n",
       "      <td>028XX W 115TH ST</td>\n",
       "      <td>0553</td>\n",
       "      <td>ASSAULT</td>\n",
       "      <td>AGGRAVATED POLICE OFFICER - OTHER DANGEROUS WE...</td>\n",
       "      <td>STREET</td>\n",
       "      <td>True</td>\n",
       "      <td>False</td>\n",
       "      <td>...</td>\n",
       "      <td>NaN</td>\n",
       "      <td>NaN</td>\n",
       "      <td>04A</td>\n",
       "      <td>1159691.0</td>\n",
       "      <td>1828241.0</td>\n",
       "      <td>2020</td>\n",
       "      <td>01/26/2023 03:41:43 PM</td>\n",
       "      <td>41.684399</td>\n",
       "      <td>-87.691051</td>\n",
       "      <td>(41.68439927, -87.691050781)</td>\n",
       "    </tr>\n",
       "    <tr>\n",
       "      <th>7398011</th>\n",
       "      <td>12287641</td>\n",
       "      <td>JE134644</td>\n",
       "      <td>2021-02-06 18:43:00</td>\n",
       "      <td>007XX W OHARE ST</td>\n",
       "      <td>0484</td>\n",
       "      <td>BATTERY</td>\n",
       "      <td>PROTECTED EMPLOYEE - HANDS, FISTS, FEET, NO / ...</td>\n",
       "      <td>AIRPORT EXTERIOR - SECURE AREA</td>\n",
       "      <td>True</td>\n",
       "      <td>False</td>\n",
       "      <td>...</td>\n",
       "      <td>NaN</td>\n",
       "      <td>76.0</td>\n",
       "      <td>08B</td>\n",
       "      <td>1094587.0</td>\n",
       "      <td>1945065.0</td>\n",
       "      <td>2021</td>\n",
       "      <td>02/13/2021 03:40:04 PM</td>\n",
       "      <td>42.006074</td>\n",
       "      <td>-87.927365</td>\n",
       "      <td>(42.006074109, -87.927364891)</td>\n",
       "    </tr>\n",
       "    <tr>\n",
       "      <th>7442049</th>\n",
       "      <td>12379598</td>\n",
       "      <td>JE247282</td>\n",
       "      <td>2021-05-29 20:45:00</td>\n",
       "      <td>081XX W BALMORAL AVE</td>\n",
       "      <td>0486</td>\n",
       "      <td>BATTERY</td>\n",
       "      <td>DOMESTIC BATTERY SIMPLE</td>\n",
       "      <td>RESIDENCE</td>\n",
       "      <td>False</td>\n",
       "      <td>True</td>\n",
       "      <td>...</td>\n",
       "      <td>NaN</td>\n",
       "      <td>10.0</td>\n",
       "      <td>08B</td>\n",
       "      <td>1120930.0</td>\n",
       "      <td>1934992.0</td>\n",
       "      <td>2021</td>\n",
       "      <td>06/05/2021 03:40:05 PM</td>\n",
       "      <td>41.978049</td>\n",
       "      <td>-87.830661</td>\n",
       "      <td>(41.978049035, -87.830660569)</td>\n",
       "    </tr>\n",
       "    <tr>\n",
       "      <th>7447051</th>\n",
       "      <td>12400346</td>\n",
       "      <td>JE273377</td>\n",
       "      <td>2021-06-18 11:00:00</td>\n",
       "      <td>081XX W BALMORAL AVE</td>\n",
       "      <td>1310</td>\n",
       "      <td>CRIMINAL DAMAGE</td>\n",
       "      <td>TO PROPERTY</td>\n",
       "      <td>RESIDENCE</td>\n",
       "      <td>False</td>\n",
       "      <td>True</td>\n",
       "      <td>...</td>\n",
       "      <td>NaN</td>\n",
       "      <td>10.0</td>\n",
       "      <td>14</td>\n",
       "      <td>1120930.0</td>\n",
       "      <td>1934992.0</td>\n",
       "      <td>2021</td>\n",
       "      <td>06/25/2021 03:40:42 PM</td>\n",
       "      <td>41.978049</td>\n",
       "      <td>-87.830661</td>\n",
       "      <td>(41.978049035, -87.830660569)</td>\n",
       "    </tr>\n",
       "    <tr>\n",
       "      <th>7520384</th>\n",
       "      <td>12446459</td>\n",
       "      <td>JE329601</td>\n",
       "      <td>2021-08-07 15:30:00</td>\n",
       "      <td>007XX W OHARE ST</td>\n",
       "      <td>1478</td>\n",
       "      <td>CONCEALED CARRY LICENSE VIOLATION</td>\n",
       "      <td>PROHIBITED PLACES</td>\n",
       "      <td>AIRPORT EXTERIOR - SECURE AREA</td>\n",
       "      <td>True</td>\n",
       "      <td>False</td>\n",
       "      <td>...</td>\n",
       "      <td>NaN</td>\n",
       "      <td>76.0</td>\n",
       "      <td>15</td>\n",
       "      <td>1094587.0</td>\n",
       "      <td>1945065.0</td>\n",
       "      <td>2021</td>\n",
       "      <td>08/14/2021 03:40:38 PM</td>\n",
       "      <td>42.006074</td>\n",
       "      <td>-87.927365</td>\n",
       "      <td>(42.006074109, -87.927364891)</td>\n",
       "    </tr>\n",
       "    <tr>\n",
       "      <th>7538862</th>\n",
       "      <td>12477085</td>\n",
       "      <td>JE366906</td>\n",
       "      <td>2021-09-09 07:32:00</td>\n",
       "      <td>007XX W OHARE ST</td>\n",
       "      <td>1478</td>\n",
       "      <td>CONCEALED CARRY LICENSE VIOLATION</td>\n",
       "      <td>PROHIBITED PLACES</td>\n",
       "      <td>AIRPORT EXTERIOR - SECURE AREA</td>\n",
       "      <td>True</td>\n",
       "      <td>False</td>\n",
       "      <td>...</td>\n",
       "      <td>NaN</td>\n",
       "      <td>76.0</td>\n",
       "      <td>15</td>\n",
       "      <td>1094587.0</td>\n",
       "      <td>1945065.0</td>\n",
       "      <td>2021</td>\n",
       "      <td>09/16/2021 03:40:47 PM</td>\n",
       "      <td>42.006074</td>\n",
       "      <td>-87.927365</td>\n",
       "      <td>(42.006074109, -87.927364891)</td>\n",
       "    </tr>\n",
       "    <tr>\n",
       "      <th>7564309</th>\n",
       "      <td>12517226</td>\n",
       "      <td>JE415946</td>\n",
       "      <td>2021-10-20 07:12:00</td>\n",
       "      <td>007XX W OHARE ST</td>\n",
       "      <td>1478</td>\n",
       "      <td>CONCEALED CARRY LICENSE VIOLATION</td>\n",
       "      <td>PROHIBITED PLACES</td>\n",
       "      <td>AIRPORT EXTERIOR - SECURE AREA</td>\n",
       "      <td>True</td>\n",
       "      <td>False</td>\n",
       "      <td>...</td>\n",
       "      <td>NaN</td>\n",
       "      <td>76.0</td>\n",
       "      <td>15</td>\n",
       "      <td>1094587.0</td>\n",
       "      <td>1945065.0</td>\n",
       "      <td>2021</td>\n",
       "      <td>10/27/2021 03:51:34 PM</td>\n",
       "      <td>42.006074</td>\n",
       "      <td>-87.927365</td>\n",
       "      <td>(42.006074109, -87.927364891)</td>\n",
       "    </tr>\n",
       "    <tr>\n",
       "      <th>7565878</th>\n",
       "      <td>12427504</td>\n",
       "      <td>JE306349</td>\n",
       "      <td>2021-07-19 07:39:00</td>\n",
       "      <td>007XX W OHARE ST</td>\n",
       "      <td>1478</td>\n",
       "      <td>CONCEALED CARRY LICENSE VIOLATION</td>\n",
       "      <td>PROHIBITED PLACES</td>\n",
       "      <td>AIRPORT EXTERIOR - SECURE AREA</td>\n",
       "      <td>True</td>\n",
       "      <td>False</td>\n",
       "      <td>...</td>\n",
       "      <td>NaN</td>\n",
       "      <td>76.0</td>\n",
       "      <td>15</td>\n",
       "      <td>1094587.0</td>\n",
       "      <td>1945065.0</td>\n",
       "      <td>2021</td>\n",
       "      <td>07/26/2021 03:40:12 PM</td>\n",
       "      <td>42.006074</td>\n",
       "      <td>-87.927365</td>\n",
       "      <td>(42.006074109, -87.927364891)</td>\n",
       "    </tr>\n",
       "    <tr>\n",
       "      <th>7628690</th>\n",
       "      <td>12761006</td>\n",
       "      <td>JF317384</td>\n",
       "      <td>2022-07-14 11:12:00</td>\n",
       "      <td>007XX W OHARE ST</td>\n",
       "      <td>143A</td>\n",
       "      <td>WEAPONS VIOLATION</td>\n",
       "      <td>UNLAWFUL POSSESSION - HANDGUN</td>\n",
       "      <td>AIRPORT EXTERIOR - SECURE AREA</td>\n",
       "      <td>True</td>\n",
       "      <td>False</td>\n",
       "      <td>...</td>\n",
       "      <td>NaN</td>\n",
       "      <td>76.0</td>\n",
       "      <td>15</td>\n",
       "      <td>1094587.0</td>\n",
       "      <td>1945065.0</td>\n",
       "      <td>2022</td>\n",
       "      <td>01/03/2023 03:40:27 PM</td>\n",
       "      <td>42.006074</td>\n",
       "      <td>-87.927365</td>\n",
       "      <td>(42.006074109, -87.927364891)</td>\n",
       "    </tr>\n",
       "    <tr>\n",
       "      <th>7658341</th>\n",
       "      <td>12828085</td>\n",
       "      <td>JF396056</td>\n",
       "      <td>2022-09-14 09:00:00</td>\n",
       "      <td>065XX N HARLEM AVE</td>\n",
       "      <td>1120</td>\n",
       "      <td>DECEPTIVE PRACTICE</td>\n",
       "      <td>FORGERY</td>\n",
       "      <td>APARTMENT</td>\n",
       "      <td>False</td>\n",
       "      <td>False</td>\n",
       "      <td>...</td>\n",
       "      <td>NaN</td>\n",
       "      <td>10.0</td>\n",
       "      <td>10</td>\n",
       "      <td>1127377.0</td>\n",
       "      <td>1943043.0</td>\n",
       "      <td>2022</td>\n",
       "      <td>01/03/2023 03:40:27 PM</td>\n",
       "      <td>42.000036</td>\n",
       "      <td>-87.806769</td>\n",
       "      <td>(42.000035501, -87.806769117)</td>\n",
       "    </tr>\n",
       "    <tr>\n",
       "      <th>7668487</th>\n",
       "      <td>12816101</td>\n",
       "      <td>JF382023</td>\n",
       "      <td>2022-09-03 18:45:00</td>\n",
       "      <td>065XX N HARLEM AVE</td>\n",
       "      <td>0560</td>\n",
       "      <td>ASSAULT</td>\n",
       "      <td>SIMPLE</td>\n",
       "      <td>APARTMENT</td>\n",
       "      <td>False</td>\n",
       "      <td>False</td>\n",
       "      <td>...</td>\n",
       "      <td>NaN</td>\n",
       "      <td>10.0</td>\n",
       "      <td>08A</td>\n",
       "      <td>1127377.0</td>\n",
       "      <td>1943043.0</td>\n",
       "      <td>2022</td>\n",
       "      <td>01/03/2023 03:40:27 PM</td>\n",
       "      <td>42.000036</td>\n",
       "      <td>-87.806769</td>\n",
       "      <td>(42.000035501, -87.806769117)</td>\n",
       "    </tr>\n",
       "    <tr>\n",
       "      <th>7705686</th>\n",
       "      <td>12631631</td>\n",
       "      <td>JF161173</td>\n",
       "      <td>2022-03-02 16:15:00</td>\n",
       "      <td>007XX W OHARE ST</td>\n",
       "      <td>1478</td>\n",
       "      <td>CONCEALED CARRY LICENSE VIOLATION</td>\n",
       "      <td>PROHIBITED PLACES</td>\n",
       "      <td>AIRPORT EXTERIOR - SECURE AREA</td>\n",
       "      <td>True</td>\n",
       "      <td>False</td>\n",
       "      <td>...</td>\n",
       "      <td>NaN</td>\n",
       "      <td>76.0</td>\n",
       "      <td>15</td>\n",
       "      <td>1094587.0</td>\n",
       "      <td>1945065.0</td>\n",
       "      <td>2022</td>\n",
       "      <td>01/03/2023 03:40:27 PM</td>\n",
       "      <td>42.006074</td>\n",
       "      <td>-87.927365</td>\n",
       "      <td>(42.006074109, -87.927364891)</td>\n",
       "    </tr>\n",
       "    <tr>\n",
       "      <th>7821183</th>\n",
       "      <td>12857345</td>\n",
       "      <td>JF431502</td>\n",
       "      <td>2022-09-12 02:08:00</td>\n",
       "      <td>056XX N FAIRVIEW AVE</td>\n",
       "      <td>1153</td>\n",
       "      <td>DECEPTIVE PRACTICE</td>\n",
       "      <td>FINANCIAL IDENTITY THEFT OVER $ 300</td>\n",
       "      <td>NaN</td>\n",
       "      <td>False</td>\n",
       "      <td>False</td>\n",
       "      <td>...</td>\n",
       "      <td>NaN</td>\n",
       "      <td>10.0</td>\n",
       "      <td>11</td>\n",
       "      <td>NaN</td>\n",
       "      <td>NaN</td>\n",
       "      <td>2022</td>\n",
       "      <td>10/13/2022 03:42:16 PM</td>\n",
       "      <td>NaN</td>\n",
       "      <td>NaN</td>\n",
       "      <td>NaN</td>\n",
       "    </tr>\n",
       "  </tbody>\n",
       "</table>\n",
       "<p>19 rows × 22 columns</p>\n",
       "</div>"
      ],
      "text/plain": [
       "               ID Case Number                Date                  Block  \\\n",
       "113557   12063729    JD247834 2020-05-30 19:00:00  069XX N NORTHWEST HWY   \n",
       "7195813  12098241    JD288382 2020-07-06 16:15:00   081XX W BALMORAL AVE   \n",
       "7301699  12132469    JD328823 2020-08-08 10:30:00     065XX N HARLEM AVE   \n",
       "7315771  12115945    JD309190 2020-07-25 06:33:00       007XX W OHARE ST   \n",
       "7333063  12379848    JE247753 2021-05-29 00:00:00   081XX W BALMORAL AVE   \n",
       "7362466  12278031    JE122753 2021-01-25 00:00:00   081XX W BALMORAL AVE   \n",
       "7397663  12244910    JD458899 2020-12-14 13:09:00       028XX W 115TH ST   \n",
       "7398011  12287641    JE134644 2021-02-06 18:43:00       007XX W OHARE ST   \n",
       "7442049  12379598    JE247282 2021-05-29 20:45:00   081XX W BALMORAL AVE   \n",
       "7447051  12400346    JE273377 2021-06-18 11:00:00   081XX W BALMORAL AVE   \n",
       "7520384  12446459    JE329601 2021-08-07 15:30:00       007XX W OHARE ST   \n",
       "7538862  12477085    JE366906 2021-09-09 07:32:00       007XX W OHARE ST   \n",
       "7564309  12517226    JE415946 2021-10-20 07:12:00       007XX W OHARE ST   \n",
       "7565878  12427504    JE306349 2021-07-19 07:39:00       007XX W OHARE ST   \n",
       "7628690  12761006    JF317384 2022-07-14 11:12:00       007XX W OHARE ST   \n",
       "7658341  12828085    JF396056 2022-09-14 09:00:00     065XX N HARLEM AVE   \n",
       "7668487  12816101    JF382023 2022-09-03 18:45:00     065XX N HARLEM AVE   \n",
       "7705686  12631631    JF161173 2022-03-02 16:15:00       007XX W OHARE ST   \n",
       "7821183  12857345    JF431502 2022-09-12 02:08:00   056XX N FAIRVIEW AVE   \n",
       "\n",
       "         IUCR                       Primary Type  \\\n",
       "113557   0460                            BATTERY   \n",
       "7195813  5000                      OTHER OFFENSE   \n",
       "7301699  0820                              THEFT   \n",
       "7315771  1335                  CRIMINAL TRESPASS   \n",
       "7333063  0486                            BATTERY   \n",
       "7362466  1154                 DECEPTIVE PRACTICE   \n",
       "7397663  0553                            ASSAULT   \n",
       "7398011  0484                            BATTERY   \n",
       "7442049  0486                            BATTERY   \n",
       "7447051  1310                    CRIMINAL DAMAGE   \n",
       "7520384  1478  CONCEALED CARRY LICENSE VIOLATION   \n",
       "7538862  1478  CONCEALED CARRY LICENSE VIOLATION   \n",
       "7564309  1478  CONCEALED CARRY LICENSE VIOLATION   \n",
       "7565878  1478  CONCEALED CARRY LICENSE VIOLATION   \n",
       "7628690  143A                  WEAPONS VIOLATION   \n",
       "7658341  1120                 DECEPTIVE PRACTICE   \n",
       "7668487  0560                            ASSAULT   \n",
       "7705686  1478  CONCEALED CARRY LICENSE VIOLATION   \n",
       "7821183  1153                 DECEPTIVE PRACTICE   \n",
       "\n",
       "                                               Description  \\\n",
       "113557                                              SIMPLE   \n",
       "7195813                         OTHER CRIME AGAINST PERSON   \n",
       "7301699                                     $500 AND UNDER   \n",
       "7315771                                         TO AIRPORT   \n",
       "7333063                            DOMESTIC BATTERY SIMPLE   \n",
       "7362466            FINANCIAL IDENTITY THEFT $300 AND UNDER   \n",
       "7397663  AGGRAVATED POLICE OFFICER - OTHER DANGEROUS WE...   \n",
       "7398011  PROTECTED EMPLOYEE - HANDS, FISTS, FEET, NO / ...   \n",
       "7442049                            DOMESTIC BATTERY SIMPLE   \n",
       "7447051                                        TO PROPERTY   \n",
       "7520384                                  PROHIBITED PLACES   \n",
       "7538862                                  PROHIBITED PLACES   \n",
       "7564309                                  PROHIBITED PLACES   \n",
       "7565878                                  PROHIBITED PLACES   \n",
       "7628690                      UNLAWFUL POSSESSION - HANDGUN   \n",
       "7658341                                            FORGERY   \n",
       "7668487                                             SIMPLE   \n",
       "7705686                                  PROHIBITED PLACES   \n",
       "7821183                FINANCIAL IDENTITY THEFT OVER $ 300   \n",
       "\n",
       "                   Location Description  Arrest  Domestic  ...  Ward  \\\n",
       "113557                        RESIDENCE   False     False  ...   NaN   \n",
       "7195813                       RESIDENCE   False      True  ...   NaN   \n",
       "7301699                       RESIDENCE   False     False  ...   NaN   \n",
       "7315771  AIRPORT EXTERIOR - SECURE AREA   False     False  ...   NaN   \n",
       "7333063                       APARTMENT   False      True  ...   NaN   \n",
       "7362466                       RESIDENCE   False     False  ...   NaN   \n",
       "7397663                          STREET    True     False  ...   NaN   \n",
       "7398011  AIRPORT EXTERIOR - SECURE AREA    True     False  ...   NaN   \n",
       "7442049                       RESIDENCE   False      True  ...   NaN   \n",
       "7447051                       RESIDENCE   False      True  ...   NaN   \n",
       "7520384  AIRPORT EXTERIOR - SECURE AREA    True     False  ...   NaN   \n",
       "7538862  AIRPORT EXTERIOR - SECURE AREA    True     False  ...   NaN   \n",
       "7564309  AIRPORT EXTERIOR - SECURE AREA    True     False  ...   NaN   \n",
       "7565878  AIRPORT EXTERIOR - SECURE AREA    True     False  ...   NaN   \n",
       "7628690  AIRPORT EXTERIOR - SECURE AREA    True     False  ...   NaN   \n",
       "7658341                       APARTMENT   False     False  ...   NaN   \n",
       "7668487                       APARTMENT   False     False  ...   NaN   \n",
       "7705686  AIRPORT EXTERIOR - SECURE AREA    True     False  ...   NaN   \n",
       "7821183                             NaN   False     False  ...   NaN   \n",
       "\n",
       "         Community Area  FBI Code  X Coordinate Y Coordinate  Year  \\\n",
       "113557              9.0       08B     1123402.0    1945216.0  2020   \n",
       "7195813            10.0        26     1120845.0    1934989.0  2020   \n",
       "7301699            10.0        06     1127377.0    1943106.0  2020   \n",
       "7315771            76.0        26     1094587.0    1945065.0  2020   \n",
       "7333063            10.0       08B     1120930.0    1934992.0  2021   \n",
       "7362466            10.0        11     1120942.0    1934992.0  2021   \n",
       "7397663             NaN       04A     1159691.0    1828241.0  2020   \n",
       "7398011            76.0       08B     1094587.0    1945065.0  2021   \n",
       "7442049            10.0       08B     1120930.0    1934992.0  2021   \n",
       "7447051            10.0        14     1120930.0    1934992.0  2021   \n",
       "7520384            76.0        15     1094587.0    1945065.0  2021   \n",
       "7538862            76.0        15     1094587.0    1945065.0  2021   \n",
       "7564309            76.0        15     1094587.0    1945065.0  2021   \n",
       "7565878            76.0        15     1094587.0    1945065.0  2021   \n",
       "7628690            76.0        15     1094587.0    1945065.0  2022   \n",
       "7658341            10.0        10     1127377.0    1943043.0  2022   \n",
       "7668487            10.0       08A     1127377.0    1943043.0  2022   \n",
       "7705686            76.0        15     1094587.0    1945065.0  2022   \n",
       "7821183            10.0        11           NaN          NaN  2022   \n",
       "\n",
       "                     Updated On   Latitude  Longitude  \\\n",
       "113557   06/06/2020 03:41:51 PM  42.006065 -87.821345   \n",
       "7195813  09/07/2021 03:41:02 PM  41.978042 -87.830973   \n",
       "7301699  08/15/2020 03:43:11 PM  42.000208 -87.806768   \n",
       "7315771  08/01/2020 03:41:55 PM  42.006074 -87.927365   \n",
       "7333063  06/05/2021 03:40:05 PM  41.978049 -87.830661   \n",
       "7362466  02/19/2021 03:39:34 PM  41.978049 -87.830616   \n",
       "7397663  01/26/2023 03:41:43 PM  41.684399 -87.691051   \n",
       "7398011  02/13/2021 03:40:04 PM  42.006074 -87.927365   \n",
       "7442049  06/05/2021 03:40:05 PM  41.978049 -87.830661   \n",
       "7447051  06/25/2021 03:40:42 PM  41.978049 -87.830661   \n",
       "7520384  08/14/2021 03:40:38 PM  42.006074 -87.927365   \n",
       "7538862  09/16/2021 03:40:47 PM  42.006074 -87.927365   \n",
       "7564309  10/27/2021 03:51:34 PM  42.006074 -87.927365   \n",
       "7565878  07/26/2021 03:40:12 PM  42.006074 -87.927365   \n",
       "7628690  01/03/2023 03:40:27 PM  42.006074 -87.927365   \n",
       "7658341  01/03/2023 03:40:27 PM  42.000036 -87.806769   \n",
       "7668487  01/03/2023 03:40:27 PM  42.000036 -87.806769   \n",
       "7705686  01/03/2023 03:40:27 PM  42.006074 -87.927365   \n",
       "7821183  10/13/2022 03:42:16 PM        NaN        NaN   \n",
       "\n",
       "                              Location  \n",
       "113557   (42.006064572, -87.821344766)  \n",
       "7195813   (41.978042171, -87.83097323)  \n",
       "7301699  (42.000208379, -87.806767692)  \n",
       "7315771  (42.006074109, -87.927364891)  \n",
       "7333063  (41.978049035, -87.830660569)  \n",
       "7362466  (41.978048841, -87.830616438)  \n",
       "7397663   (41.68439927, -87.691050781)  \n",
       "7398011  (42.006074109, -87.927364891)  \n",
       "7442049  (41.978049035, -87.830660569)  \n",
       "7447051  (41.978049035, -87.830660569)  \n",
       "7520384  (42.006074109, -87.927364891)  \n",
       "7538862  (42.006074109, -87.927364891)  \n",
       "7564309  (42.006074109, -87.927364891)  \n",
       "7565878  (42.006074109, -87.927364891)  \n",
       "7628690  (42.006074109, -87.927364891)  \n",
       "7658341  (42.000035501, -87.806769117)  \n",
       "7668487  (42.000035501, -87.806769117)  \n",
       "7705686  (42.006074109, -87.927364891)  \n",
       "7821183                            NaN  \n",
       "\n",
       "[19 rows x 22 columns]"
      ]
     },
     "execution_count": 18,
     "metadata": {},
     "output_type": "execute_result"
    }
   ],
   "source": [
    "five_yr_crimes[five_yr_crimes[\"Ward\"].isnull()] #There is various values missing that are from O'Hare which is the 41st Ward"
   ]
  },
  {
   "cell_type": "code",
   "execution_count": 19,
   "id": "c47b7ffd",
   "metadata": {
    "scrolled": false
   },
   "outputs": [],
   "source": [
    "ward_missing_bool = five_yr_crimes[\"Ward\"].isna()\n",
    "ward_missing= five_yr_crimes[ward_missing_bool]\n",
    "Ohare_missing = ward_missing[ward_missing['Block'].str.contains(\"OHARE ST\")]\n",
    "Ohare_missing[\"Ward\"]= Ohare_missing[\"Ward\"].fillna(41.0)"
   ]
  },
  {
   "cell_type": "code",
   "execution_count": 20,
   "id": "225e6b49",
   "metadata": {},
   "outputs": [],
   "source": [
    "Ohare_missing_values = Ohare_missing[\"Ward\"]\n",
    "five_yr_crimes[\"Ward\"] = five_yr_crimes[\"Ward\"].fillna(Ohare_missing_values )\n"
   ]
  },
  {
   "cell_type": "code",
   "execution_count": 21,
   "id": "6cca8748",
   "metadata": {
    "scrolled": true
   },
   "outputs": [
    {
     "data": {
      "text/html": [
       "<div>\n",
       "<style scoped>\n",
       "    .dataframe tbody tr th:only-of-type {\n",
       "        vertical-align: middle;\n",
       "    }\n",
       "\n",
       "    .dataframe tbody tr th {\n",
       "        vertical-align: top;\n",
       "    }\n",
       "\n",
       "    .dataframe thead th {\n",
       "        text-align: right;\n",
       "    }\n",
       "</style>\n",
       "<table border=\"1\" class=\"dataframe\">\n",
       "  <thead>\n",
       "    <tr style=\"text-align: right;\">\n",
       "      <th></th>\n",
       "      <th>ID</th>\n",
       "      <th>Case Number</th>\n",
       "      <th>Date</th>\n",
       "      <th>Block</th>\n",
       "      <th>IUCR</th>\n",
       "      <th>Primary Type</th>\n",
       "      <th>Description</th>\n",
       "      <th>Location Description</th>\n",
       "      <th>Arrest</th>\n",
       "      <th>Domestic</th>\n",
       "      <th>...</th>\n",
       "      <th>Ward</th>\n",
       "      <th>Community Area</th>\n",
       "      <th>FBI Code</th>\n",
       "      <th>X Coordinate</th>\n",
       "      <th>Y Coordinate</th>\n",
       "      <th>Year</th>\n",
       "      <th>Updated On</th>\n",
       "      <th>Latitude</th>\n",
       "      <th>Longitude</th>\n",
       "      <th>Location</th>\n",
       "    </tr>\n",
       "  </thead>\n",
       "  <tbody>\n",
       "    <tr>\n",
       "      <th>113557</th>\n",
       "      <td>12063729</td>\n",
       "      <td>JD247834</td>\n",
       "      <td>2020-05-30 19:00:00</td>\n",
       "      <td>069XX N NORTHWEST HWY</td>\n",
       "      <td>0460</td>\n",
       "      <td>BATTERY</td>\n",
       "      <td>SIMPLE</td>\n",
       "      <td>RESIDENCE</td>\n",
       "      <td>False</td>\n",
       "      <td>False</td>\n",
       "      <td>...</td>\n",
       "      <td>NaN</td>\n",
       "      <td>9.0</td>\n",
       "      <td>08B</td>\n",
       "      <td>1123402.0</td>\n",
       "      <td>1945216.0</td>\n",
       "      <td>2020</td>\n",
       "      <td>06/06/2020 03:41:51 PM</td>\n",
       "      <td>42.006065</td>\n",
       "      <td>-87.821345</td>\n",
       "      <td>(42.006064572, -87.821344766)</td>\n",
       "    </tr>\n",
       "    <tr>\n",
       "      <th>7195813</th>\n",
       "      <td>12098241</td>\n",
       "      <td>JD288382</td>\n",
       "      <td>2020-07-06 16:15:00</td>\n",
       "      <td>081XX W BALMORAL AVE</td>\n",
       "      <td>5000</td>\n",
       "      <td>OTHER OFFENSE</td>\n",
       "      <td>OTHER CRIME AGAINST PERSON</td>\n",
       "      <td>RESIDENCE</td>\n",
       "      <td>False</td>\n",
       "      <td>True</td>\n",
       "      <td>...</td>\n",
       "      <td>NaN</td>\n",
       "      <td>10.0</td>\n",
       "      <td>26</td>\n",
       "      <td>1120845.0</td>\n",
       "      <td>1934989.0</td>\n",
       "      <td>2020</td>\n",
       "      <td>09/07/2021 03:41:02 PM</td>\n",
       "      <td>41.978042</td>\n",
       "      <td>-87.830973</td>\n",
       "      <td>(41.978042171, -87.83097323)</td>\n",
       "    </tr>\n",
       "    <tr>\n",
       "      <th>7301699</th>\n",
       "      <td>12132469</td>\n",
       "      <td>JD328823</td>\n",
       "      <td>2020-08-08 10:30:00</td>\n",
       "      <td>065XX N HARLEM AVE</td>\n",
       "      <td>0820</td>\n",
       "      <td>THEFT</td>\n",
       "      <td>$500 AND UNDER</td>\n",
       "      <td>RESIDENCE</td>\n",
       "      <td>False</td>\n",
       "      <td>False</td>\n",
       "      <td>...</td>\n",
       "      <td>NaN</td>\n",
       "      <td>10.0</td>\n",
       "      <td>06</td>\n",
       "      <td>1127377.0</td>\n",
       "      <td>1943106.0</td>\n",
       "      <td>2020</td>\n",
       "      <td>08/15/2020 03:43:11 PM</td>\n",
       "      <td>42.000208</td>\n",
       "      <td>-87.806768</td>\n",
       "      <td>(42.000208379, -87.806767692)</td>\n",
       "    </tr>\n",
       "    <tr>\n",
       "      <th>7333063</th>\n",
       "      <td>12379848</td>\n",
       "      <td>JE247753</td>\n",
       "      <td>2021-05-29 00:00:00</td>\n",
       "      <td>081XX W BALMORAL AVE</td>\n",
       "      <td>0486</td>\n",
       "      <td>BATTERY</td>\n",
       "      <td>DOMESTIC BATTERY SIMPLE</td>\n",
       "      <td>APARTMENT</td>\n",
       "      <td>False</td>\n",
       "      <td>True</td>\n",
       "      <td>...</td>\n",
       "      <td>NaN</td>\n",
       "      <td>10.0</td>\n",
       "      <td>08B</td>\n",
       "      <td>1120930.0</td>\n",
       "      <td>1934992.0</td>\n",
       "      <td>2021</td>\n",
       "      <td>06/05/2021 03:40:05 PM</td>\n",
       "      <td>41.978049</td>\n",
       "      <td>-87.830661</td>\n",
       "      <td>(41.978049035, -87.830660569)</td>\n",
       "    </tr>\n",
       "    <tr>\n",
       "      <th>7362466</th>\n",
       "      <td>12278031</td>\n",
       "      <td>JE122753</td>\n",
       "      <td>2021-01-25 00:00:00</td>\n",
       "      <td>081XX W BALMORAL AVE</td>\n",
       "      <td>1154</td>\n",
       "      <td>DECEPTIVE PRACTICE</td>\n",
       "      <td>FINANCIAL IDENTITY THEFT $300 AND UNDER</td>\n",
       "      <td>RESIDENCE</td>\n",
       "      <td>False</td>\n",
       "      <td>False</td>\n",
       "      <td>...</td>\n",
       "      <td>NaN</td>\n",
       "      <td>10.0</td>\n",
       "      <td>11</td>\n",
       "      <td>1120942.0</td>\n",
       "      <td>1934992.0</td>\n",
       "      <td>2021</td>\n",
       "      <td>02/19/2021 03:39:34 PM</td>\n",
       "      <td>41.978049</td>\n",
       "      <td>-87.830616</td>\n",
       "      <td>(41.978048841, -87.830616438)</td>\n",
       "    </tr>\n",
       "    <tr>\n",
       "      <th>7397663</th>\n",
       "      <td>12244910</td>\n",
       "      <td>JD458899</td>\n",
       "      <td>2020-12-14 13:09:00</td>\n",
       "      <td>028XX W 115TH ST</td>\n",
       "      <td>0553</td>\n",
       "      <td>ASSAULT</td>\n",
       "      <td>AGGRAVATED POLICE OFFICER - OTHER DANGEROUS WE...</td>\n",
       "      <td>STREET</td>\n",
       "      <td>True</td>\n",
       "      <td>False</td>\n",
       "      <td>...</td>\n",
       "      <td>NaN</td>\n",
       "      <td>NaN</td>\n",
       "      <td>04A</td>\n",
       "      <td>1159691.0</td>\n",
       "      <td>1828241.0</td>\n",
       "      <td>2020</td>\n",
       "      <td>01/26/2023 03:41:43 PM</td>\n",
       "      <td>41.684399</td>\n",
       "      <td>-87.691051</td>\n",
       "      <td>(41.68439927, -87.691050781)</td>\n",
       "    </tr>\n",
       "    <tr>\n",
       "      <th>7442049</th>\n",
       "      <td>12379598</td>\n",
       "      <td>JE247282</td>\n",
       "      <td>2021-05-29 20:45:00</td>\n",
       "      <td>081XX W BALMORAL AVE</td>\n",
       "      <td>0486</td>\n",
       "      <td>BATTERY</td>\n",
       "      <td>DOMESTIC BATTERY SIMPLE</td>\n",
       "      <td>RESIDENCE</td>\n",
       "      <td>False</td>\n",
       "      <td>True</td>\n",
       "      <td>...</td>\n",
       "      <td>NaN</td>\n",
       "      <td>10.0</td>\n",
       "      <td>08B</td>\n",
       "      <td>1120930.0</td>\n",
       "      <td>1934992.0</td>\n",
       "      <td>2021</td>\n",
       "      <td>06/05/2021 03:40:05 PM</td>\n",
       "      <td>41.978049</td>\n",
       "      <td>-87.830661</td>\n",
       "      <td>(41.978049035, -87.830660569)</td>\n",
       "    </tr>\n",
       "    <tr>\n",
       "      <th>7447051</th>\n",
       "      <td>12400346</td>\n",
       "      <td>JE273377</td>\n",
       "      <td>2021-06-18 11:00:00</td>\n",
       "      <td>081XX W BALMORAL AVE</td>\n",
       "      <td>1310</td>\n",
       "      <td>CRIMINAL DAMAGE</td>\n",
       "      <td>TO PROPERTY</td>\n",
       "      <td>RESIDENCE</td>\n",
       "      <td>False</td>\n",
       "      <td>True</td>\n",
       "      <td>...</td>\n",
       "      <td>NaN</td>\n",
       "      <td>10.0</td>\n",
       "      <td>14</td>\n",
       "      <td>1120930.0</td>\n",
       "      <td>1934992.0</td>\n",
       "      <td>2021</td>\n",
       "      <td>06/25/2021 03:40:42 PM</td>\n",
       "      <td>41.978049</td>\n",
       "      <td>-87.830661</td>\n",
       "      <td>(41.978049035, -87.830660569)</td>\n",
       "    </tr>\n",
       "    <tr>\n",
       "      <th>7658341</th>\n",
       "      <td>12828085</td>\n",
       "      <td>JF396056</td>\n",
       "      <td>2022-09-14 09:00:00</td>\n",
       "      <td>065XX N HARLEM AVE</td>\n",
       "      <td>1120</td>\n",
       "      <td>DECEPTIVE PRACTICE</td>\n",
       "      <td>FORGERY</td>\n",
       "      <td>APARTMENT</td>\n",
       "      <td>False</td>\n",
       "      <td>False</td>\n",
       "      <td>...</td>\n",
       "      <td>NaN</td>\n",
       "      <td>10.0</td>\n",
       "      <td>10</td>\n",
       "      <td>1127377.0</td>\n",
       "      <td>1943043.0</td>\n",
       "      <td>2022</td>\n",
       "      <td>01/03/2023 03:40:27 PM</td>\n",
       "      <td>42.000036</td>\n",
       "      <td>-87.806769</td>\n",
       "      <td>(42.000035501, -87.806769117)</td>\n",
       "    </tr>\n",
       "    <tr>\n",
       "      <th>7668487</th>\n",
       "      <td>12816101</td>\n",
       "      <td>JF382023</td>\n",
       "      <td>2022-09-03 18:45:00</td>\n",
       "      <td>065XX N HARLEM AVE</td>\n",
       "      <td>0560</td>\n",
       "      <td>ASSAULT</td>\n",
       "      <td>SIMPLE</td>\n",
       "      <td>APARTMENT</td>\n",
       "      <td>False</td>\n",
       "      <td>False</td>\n",
       "      <td>...</td>\n",
       "      <td>NaN</td>\n",
       "      <td>10.0</td>\n",
       "      <td>08A</td>\n",
       "      <td>1127377.0</td>\n",
       "      <td>1943043.0</td>\n",
       "      <td>2022</td>\n",
       "      <td>01/03/2023 03:40:27 PM</td>\n",
       "      <td>42.000036</td>\n",
       "      <td>-87.806769</td>\n",
       "      <td>(42.000035501, -87.806769117)</td>\n",
       "    </tr>\n",
       "    <tr>\n",
       "      <th>7821183</th>\n",
       "      <td>12857345</td>\n",
       "      <td>JF431502</td>\n",
       "      <td>2022-09-12 02:08:00</td>\n",
       "      <td>056XX N FAIRVIEW AVE</td>\n",
       "      <td>1153</td>\n",
       "      <td>DECEPTIVE PRACTICE</td>\n",
       "      <td>FINANCIAL IDENTITY THEFT OVER $ 300</td>\n",
       "      <td>NaN</td>\n",
       "      <td>False</td>\n",
       "      <td>False</td>\n",
       "      <td>...</td>\n",
       "      <td>NaN</td>\n",
       "      <td>10.0</td>\n",
       "      <td>11</td>\n",
       "      <td>NaN</td>\n",
       "      <td>NaN</td>\n",
       "      <td>2022</td>\n",
       "      <td>10/13/2022 03:42:16 PM</td>\n",
       "      <td>NaN</td>\n",
       "      <td>NaN</td>\n",
       "      <td>NaN</td>\n",
       "    </tr>\n",
       "  </tbody>\n",
       "</table>\n",
       "<p>11 rows × 22 columns</p>\n",
       "</div>"
      ],
      "text/plain": [
       "               ID Case Number                Date                  Block  \\\n",
       "113557   12063729    JD247834 2020-05-30 19:00:00  069XX N NORTHWEST HWY   \n",
       "7195813  12098241    JD288382 2020-07-06 16:15:00   081XX W BALMORAL AVE   \n",
       "7301699  12132469    JD328823 2020-08-08 10:30:00     065XX N HARLEM AVE   \n",
       "7333063  12379848    JE247753 2021-05-29 00:00:00   081XX W BALMORAL AVE   \n",
       "7362466  12278031    JE122753 2021-01-25 00:00:00   081XX W BALMORAL AVE   \n",
       "7397663  12244910    JD458899 2020-12-14 13:09:00       028XX W 115TH ST   \n",
       "7442049  12379598    JE247282 2021-05-29 20:45:00   081XX W BALMORAL AVE   \n",
       "7447051  12400346    JE273377 2021-06-18 11:00:00   081XX W BALMORAL AVE   \n",
       "7658341  12828085    JF396056 2022-09-14 09:00:00     065XX N HARLEM AVE   \n",
       "7668487  12816101    JF382023 2022-09-03 18:45:00     065XX N HARLEM AVE   \n",
       "7821183  12857345    JF431502 2022-09-12 02:08:00   056XX N FAIRVIEW AVE   \n",
       "\n",
       "         IUCR        Primary Type  \\\n",
       "113557   0460             BATTERY   \n",
       "7195813  5000       OTHER OFFENSE   \n",
       "7301699  0820               THEFT   \n",
       "7333063  0486             BATTERY   \n",
       "7362466  1154  DECEPTIVE PRACTICE   \n",
       "7397663  0553             ASSAULT   \n",
       "7442049  0486             BATTERY   \n",
       "7447051  1310     CRIMINAL DAMAGE   \n",
       "7658341  1120  DECEPTIVE PRACTICE   \n",
       "7668487  0560             ASSAULT   \n",
       "7821183  1153  DECEPTIVE PRACTICE   \n",
       "\n",
       "                                               Description  \\\n",
       "113557                                              SIMPLE   \n",
       "7195813                         OTHER CRIME AGAINST PERSON   \n",
       "7301699                                     $500 AND UNDER   \n",
       "7333063                            DOMESTIC BATTERY SIMPLE   \n",
       "7362466            FINANCIAL IDENTITY THEFT $300 AND UNDER   \n",
       "7397663  AGGRAVATED POLICE OFFICER - OTHER DANGEROUS WE...   \n",
       "7442049                            DOMESTIC BATTERY SIMPLE   \n",
       "7447051                                        TO PROPERTY   \n",
       "7658341                                            FORGERY   \n",
       "7668487                                             SIMPLE   \n",
       "7821183                FINANCIAL IDENTITY THEFT OVER $ 300   \n",
       "\n",
       "        Location Description  Arrest  Domestic  ...  Ward  Community Area  \\\n",
       "113557             RESIDENCE   False     False  ...   NaN             9.0   \n",
       "7195813            RESIDENCE   False      True  ...   NaN            10.0   \n",
       "7301699            RESIDENCE   False     False  ...   NaN            10.0   \n",
       "7333063            APARTMENT   False      True  ...   NaN            10.0   \n",
       "7362466            RESIDENCE   False     False  ...   NaN            10.0   \n",
       "7397663               STREET    True     False  ...   NaN             NaN   \n",
       "7442049            RESIDENCE   False      True  ...   NaN            10.0   \n",
       "7447051            RESIDENCE   False      True  ...   NaN            10.0   \n",
       "7658341            APARTMENT   False     False  ...   NaN            10.0   \n",
       "7668487            APARTMENT   False     False  ...   NaN            10.0   \n",
       "7821183                  NaN   False     False  ...   NaN            10.0   \n",
       "\n",
       "         FBI Code  X Coordinate Y Coordinate  Year              Updated On  \\\n",
       "113557        08B     1123402.0    1945216.0  2020  06/06/2020 03:41:51 PM   \n",
       "7195813        26     1120845.0    1934989.0  2020  09/07/2021 03:41:02 PM   \n",
       "7301699        06     1127377.0    1943106.0  2020  08/15/2020 03:43:11 PM   \n",
       "7333063       08B     1120930.0    1934992.0  2021  06/05/2021 03:40:05 PM   \n",
       "7362466        11     1120942.0    1934992.0  2021  02/19/2021 03:39:34 PM   \n",
       "7397663       04A     1159691.0    1828241.0  2020  01/26/2023 03:41:43 PM   \n",
       "7442049       08B     1120930.0    1934992.0  2021  06/05/2021 03:40:05 PM   \n",
       "7447051        14     1120930.0    1934992.0  2021  06/25/2021 03:40:42 PM   \n",
       "7658341        10     1127377.0    1943043.0  2022  01/03/2023 03:40:27 PM   \n",
       "7668487       08A     1127377.0    1943043.0  2022  01/03/2023 03:40:27 PM   \n",
       "7821183        11           NaN          NaN  2022  10/13/2022 03:42:16 PM   \n",
       "\n",
       "          Latitude  Longitude                       Location  \n",
       "113557   42.006065 -87.821345  (42.006064572, -87.821344766)  \n",
       "7195813  41.978042 -87.830973   (41.978042171, -87.83097323)  \n",
       "7301699  42.000208 -87.806768  (42.000208379, -87.806767692)  \n",
       "7333063  41.978049 -87.830661  (41.978049035, -87.830660569)  \n",
       "7362466  41.978049 -87.830616  (41.978048841, -87.830616438)  \n",
       "7397663  41.684399 -87.691051   (41.68439927, -87.691050781)  \n",
       "7442049  41.978049 -87.830661  (41.978049035, -87.830660569)  \n",
       "7447051  41.978049 -87.830661  (41.978049035, -87.830660569)  \n",
       "7658341  42.000036 -87.806769  (42.000035501, -87.806769117)  \n",
       "7668487  42.000036 -87.806769  (42.000035501, -87.806769117)  \n",
       "7821183        NaN        NaN                            NaN  \n",
       "\n",
       "[11 rows x 22 columns]"
      ]
     },
     "execution_count": 21,
     "metadata": {},
     "output_type": "execute_result"
    }
   ],
   "source": [
    "five_yr_crimes[five_yr_crimes[\"Ward\"].isnull()]"
   ]
  },
  {
   "cell_type": "markdown",
   "id": "a58e1682",
   "metadata": {},
   "source": [
    "11 rows remained after filling in the missing data. Upon further investigation, I noticed that the rest of the values all derive from the 41st ward. Therefore, I will fill the missing ward values with the same value of 41. "
   ]
  },
  {
   "cell_type": "code",
   "execution_count": 22,
   "id": "96b6a363",
   "metadata": {
    "scrolled": true
   },
   "outputs": [
    {
     "data": {
      "text/html": [
       "<div>\n",
       "<style scoped>\n",
       "    .dataframe tbody tr th:only-of-type {\n",
       "        vertical-align: middle;\n",
       "    }\n",
       "\n",
       "    .dataframe tbody tr th {\n",
       "        vertical-align: top;\n",
       "    }\n",
       "\n",
       "    .dataframe thead th {\n",
       "        text-align: right;\n",
       "    }\n",
       "</style>\n",
       "<table border=\"1\" class=\"dataframe\">\n",
       "  <thead>\n",
       "    <tr style=\"text-align: right;\">\n",
       "      <th></th>\n",
       "      <th>ID</th>\n",
       "      <th>Case Number</th>\n",
       "      <th>Date</th>\n",
       "      <th>Block</th>\n",
       "      <th>IUCR</th>\n",
       "      <th>Primary Type</th>\n",
       "      <th>Description</th>\n",
       "      <th>Location Description</th>\n",
       "      <th>Arrest</th>\n",
       "      <th>Domestic</th>\n",
       "      <th>...</th>\n",
       "      <th>Ward</th>\n",
       "      <th>Community Area</th>\n",
       "      <th>FBI Code</th>\n",
       "      <th>X Coordinate</th>\n",
       "      <th>Y Coordinate</th>\n",
       "      <th>Year</th>\n",
       "      <th>Updated On</th>\n",
       "      <th>Latitude</th>\n",
       "      <th>Longitude</th>\n",
       "      <th>Location</th>\n",
       "    </tr>\n",
       "  </thead>\n",
       "  <tbody>\n",
       "  </tbody>\n",
       "</table>\n",
       "<p>0 rows × 22 columns</p>\n",
       "</div>"
      ],
      "text/plain": [
       "Empty DataFrame\n",
       "Columns: [ID, Case Number, Date, Block, IUCR, Primary Type, Description, Location Description, Arrest, Domestic, Beat, District, Ward, Community Area, FBI Code, X Coordinate, Y Coordinate, Year, Updated On, Latitude, Longitude, Location]\n",
       "Index: []\n",
       "\n",
       "[0 rows x 22 columns]"
      ]
     },
     "execution_count": 22,
     "metadata": {},
     "output_type": "execute_result"
    }
   ],
   "source": [
    "five_yr_crimes[\"Ward\"] = five_yr_crimes[\"Ward\"].fillna(41.0)\n",
    "five_yr_crimes[five_yr_crimes[\"Ward\"].isnull()] #no missing ward values remained"
   ]
  },
  {
   "cell_type": "markdown",
   "id": "3bbe16ef",
   "metadata": {},
   "source": [
    "Now that I have sorted the data to values from 2020-2024 and filled in the missing values, I can begin exploring the data. "
   ]
  },
  {
   "cell_type": "markdown",
   "id": "b2d3e9cc",
   "metadata": {},
   "source": [
    "#  Chicago Arrests From 2020-2024"
   ]
  },
  {
   "cell_type": "markdown",
   "id": "461f92b2",
   "metadata": {},
   "source": [
    "Calculating the number of Arrests per year using groupby operation. "
   ]
  },
  {
   "cell_type": "code",
   "execution_count": 23,
   "id": "c0f0510f",
   "metadata": {
    "scrolled": true
   },
   "outputs": [
    {
     "name": "stdout",
     "output_type": "stream",
     "text": [
      "Year\n",
      "2020    34173\n",
      "2021    26595\n",
      "2022    28137\n",
      "2023    31968\n",
      "2024    35041\n",
      "Name: Arrest, dtype: int64\n"
     ]
    }
   ],
   "source": [
    "Arrests = five_yr_crimes[five_yr_crimes[\"Arrest\"]==True] #selecting only values where arrest is true \n",
    "arrest_groupby = Arrests.groupby('Year') #grouping previous data by year\n",
    "cnt_yr_arrest = arrest_groupby['Arrest'].count() #counting total amount of arrests per year\n",
    "print(cnt_yr_arrest)"
   ]
  },
  {
   "cell_type": "code",
   "execution_count": 24,
   "id": "9b81b1a7",
   "metadata": {
    "scrolled": true
   },
   "outputs": [
    {
     "data": {
      "text/html": [
       "<div>\n",
       "<style scoped>\n",
       "    .dataframe tbody tr th:only-of-type {\n",
       "        vertical-align: middle;\n",
       "    }\n",
       "\n",
       "    .dataframe tbody tr th {\n",
       "        vertical-align: top;\n",
       "    }\n",
       "\n",
       "    .dataframe thead th {\n",
       "        text-align: right;\n",
       "    }\n",
       "</style>\n",
       "<table border=\"1\" class=\"dataframe\">\n",
       "  <thead>\n",
       "    <tr style=\"text-align: right;\">\n",
       "      <th></th>\n",
       "      <th>Year</th>\n",
       "      <th>Arrest</th>\n",
       "    </tr>\n",
       "  </thead>\n",
       "  <tbody>\n",
       "    <tr>\n",
       "      <th>0</th>\n",
       "      <td>2020</td>\n",
       "      <td>34173</td>\n",
       "    </tr>\n",
       "    <tr>\n",
       "      <th>1</th>\n",
       "      <td>2021</td>\n",
       "      <td>26595</td>\n",
       "    </tr>\n",
       "    <tr>\n",
       "      <th>2</th>\n",
       "      <td>2022</td>\n",
       "      <td>28137</td>\n",
       "    </tr>\n",
       "    <tr>\n",
       "      <th>3</th>\n",
       "      <td>2023</td>\n",
       "      <td>31968</td>\n",
       "    </tr>\n",
       "    <tr>\n",
       "      <th>4</th>\n",
       "      <td>2024</td>\n",
       "      <td>35041</td>\n",
       "    </tr>\n",
       "  </tbody>\n",
       "</table>\n",
       "</div>"
      ],
      "text/plain": [
       "   Year  Arrest\n",
       "0  2020   34173\n",
       "1  2021   26595\n",
       "2  2022   28137\n",
       "3  2023   31968\n",
       "4  2024   35041"
      ]
     },
     "execution_count": 24,
     "metadata": {},
     "output_type": "execute_result"
    }
   ],
   "source": [
    "cnt_yr_arrest_df= pd.DataFrame(cnt_yr_arrest)\n",
    "cnt_yr_arrest_df = cnt_yr_arrest_df .reset_index()\n",
    "cnt_yr_arrest_df"
   ]
  },
  {
   "cell_type": "code",
   "execution_count": 25,
   "id": "61f96c70",
   "metadata": {
    "scrolled": true
   },
   "outputs": [
    {
     "data": {
      "text/html": [
       "<div>\n",
       "<style scoped>\n",
       "    .dataframe tbody tr th:only-of-type {\n",
       "        vertical-align: middle;\n",
       "    }\n",
       "\n",
       "    .dataframe tbody tr th {\n",
       "        vertical-align: top;\n",
       "    }\n",
       "\n",
       "    .dataframe thead th {\n",
       "        text-align: right;\n",
       "    }\n",
       "</style>\n",
       "<table border=\"1\" class=\"dataframe\">\n",
       "  <thead>\n",
       "    <tr style=\"text-align: right;\">\n",
       "      <th></th>\n",
       "      <th>Year</th>\n",
       "      <th>Arrest</th>\n",
       "      <th>Crime_Count</th>\n",
       "    </tr>\n",
       "  </thead>\n",
       "  <tbody>\n",
       "    <tr>\n",
       "      <th>0</th>\n",
       "      <td>2020</td>\n",
       "      <td>34173</td>\n",
       "      <td>212546</td>\n",
       "    </tr>\n",
       "    <tr>\n",
       "      <th>1</th>\n",
       "      <td>2021</td>\n",
       "      <td>26595</td>\n",
       "      <td>209437</td>\n",
       "    </tr>\n",
       "    <tr>\n",
       "      <th>2</th>\n",
       "      <td>2022</td>\n",
       "      <td>28137</td>\n",
       "      <td>239686</td>\n",
       "    </tr>\n",
       "    <tr>\n",
       "      <th>3</th>\n",
       "      <td>2023</td>\n",
       "      <td>31968</td>\n",
       "      <td>262810</td>\n",
       "    </tr>\n",
       "    <tr>\n",
       "      <th>4</th>\n",
       "      <td>2024</td>\n",
       "      <td>35041</td>\n",
       "      <td>257248</td>\n",
       "    </tr>\n",
       "  </tbody>\n",
       "</table>\n",
       "</div>"
      ],
      "text/plain": [
       "   Year  Arrest  Crime_Count\n",
       "0  2020   34173       212546\n",
       "1  2021   26595       209437\n",
       "2  2022   28137       239686\n",
       "3  2023   31968       262810\n",
       "4  2024   35041       257248"
      ]
     },
     "execution_count": 25,
     "metadata": {},
     "output_type": "execute_result"
    }
   ],
   "source": [
    "y_grouped  = five_yr_crimes.groupby('Year')\n",
    "yr_h = y_grouped['Primary Type'].count()\n",
    "Crimes_and_Arrests_1 = pd.merge(left = cnt_yr_arrest_df , right = yr_h, on = 'Year')\n",
    "Crimes_and_Arrests_1.rename(columns={\"Primary Type\": \"Crime_Count\"}, inplace = True)\n",
    "Crimes_and_Arrests_1"
   ]
  },
  {
   "cell_type": "code",
   "execution_count": 26,
   "id": "b2c415e9",
   "metadata": {
    "scrolled": false
   },
   "outputs": [
    {
     "data": {
      "text/plain": [
       "0       NaN\n",
       "1   -7578.0\n",
       "2    1542.0\n",
       "3    3831.0\n",
       "4    3073.0\n",
       "Name: Arrest, dtype: float64"
      ]
     },
     "execution_count": 26,
     "metadata": {},
     "output_type": "execute_result"
    }
   ],
   "source": [
    "Crimes_and_Arrests_1['Arrest'].diff()\n",
    "#difference in years"
   ]
  },
  {
   "cell_type": "code",
   "execution_count": 27,
   "id": "8224a314",
   "metadata": {},
   "outputs": [
    {
     "data": {
      "text/plain": [
       "31.76"
      ]
     },
     "execution_count": 27,
     "metadata": {},
     "output_type": "execute_result"
    }
   ],
   "source": [
    "round(((Crimes_and_Arrests_1['Arrest'][4] - Crimes_and_Arrests_1['Arrest'][1])/ Crimes_and_Arrests_1['Arrest'][1])*100,2)\n",
    "#percent change since 2021 "
   ]
  },
  {
   "cell_type": "code",
   "execution_count": 28,
   "id": "97c064c1",
   "metadata": {
    "scrolled": false
   },
   "outputs": [
    {
     "name": "stderr",
     "output_type": "stream",
     "text": [
      "/var/folders/tg/44q7hwts7n96248gzc1xgf3m0000gn/T/ipykernel_3027/2584082631.py:7: UserWarning: FixedFormatter should only be used together with FixedLocator\n",
      "  ax.set_yticklabels(['0','5,000','10,000','15,000','20,000','25,000','30,000', '35,000'])\n"
     ]
    },
    {
     "data": {
      "image/png": "[encoded data removed]",
      "text/plain": [
       "<Figure size 700x700 with 1 Axes>"
      ]
     },
     "metadata": {},
     "output_type": "display_data"
    }
   ],
   "source": [
    "c_and_a_cc = Crimes_and_Arrests_1['Crime_Count']\n",
    "c_and_a_a = Crimes_and_Arrests_1['Arrest']\n",
    "c_and_a_y = Crimes_and_Arrests_1['Year']\n",
    "x = c_and_a_y\n",
    "fig, ax = plt.subplots(figsize = (7,7))\n",
    "arrest_bar = ax.bar(x = c_and_a_y , height = c_and_a_a, align='center', width = 0.6, color = 'indianred')\n",
    "ax.set_yticklabels(['0','5,000','10,000','15,000','20,000','25,000','30,000', '35,000'])\n",
    "ax.text(x = 2018.9 ,y= 40000,s= 'Chicago Arrests Increasing Since 2021 Decline', fontsize = 'xx-large', fontweight = 'semibold')\n",
    "ax.text(x = 2018.98 ,y= 38000, s = 'Arrests up by 32% since 2021 and beyond 2020 levels', fontsize = 'large')\n",
    "ax.tick_params(bottom=False, left=False)\n",
    "ax.tick_params(axis='x', colors='grey')\n",
    "ax.tick_params(axis='y', colors='grey')\n",
    "for location in ['left', 'right', 'bottom', 'top']:\n",
    "    ax.spines[location].set_visible(False)\n",
    "ax.axhline(y= 34173,c='grey', alpha=0.5, linewidth= 1 )\n",
    "plt.show()\n"
   ]
  },
  {
   "cell_type": "markdown",
   "id": "b00a4b58",
   "metadata": {},
   "source": [
    "# Chicago's Top Five Most Reported Crime From 2020 - 2024 "
   ]
  },
  {
   "cell_type": "code",
   "execution_count": 29,
   "id": "aab9240a",
   "metadata": {},
   "outputs": [
    {
     "name": "stdout",
     "output_type": "stream",
     "text": [
      "THEFT                  254770\n",
      "BATTERY                213208\n",
      "CRIMINAL DAMAGE        135838\n",
      "ASSAULT                105472\n",
      "MOTOR VEHICLE THEFT     92946\n",
      "Name: Primary Type, dtype: int64\n"
     ]
    }
   ],
   "source": [
    "top_5_crimes = five_yr_crimes['Primary Type'].value_counts()[:5]\n",
    "print(top_5_crimes)"
   ]
  },
  {
   "cell_type": "code",
   "execution_count": 30,
   "id": "2009bd8e",
   "metadata": {},
   "outputs": [],
   "source": [
    "series_top_5_crimes = pd.Series(top_5_crimes)\n",
    "series_top_5_crimes = series_top_5_crimes.reset_index()"
   ]
  },
  {
   "cell_type": "code",
   "execution_count": 520,
   "id": "865718de",
   "metadata": {},
   "outputs": [
    {
     "name": "stderr",
     "output_type": "stream",
     "text": [
      "/var/folders/tg/44q7hwts7n96248gzc1xgf3m0000gn/T/ipykernel_3027/3798999282.py:9: UserWarning: FixedFormatter should only be used together with FixedLocator\n",
      "  ax.set_xticklabels(['0','50,000','100,000','150,000','200,000','250,000'])\n"
     ]
    },
    {
     "data": {
      "image/png": "[encoded data removed]",
      "text/plain": [
       "<Figure size 500x700 with 1 Axes>"
      ]
     },
     "metadata": {},
     "output_type": "display_data"
    }
   ],
   "source": [
    "barh_cat = series_top_5_crimes['index']\n",
    "barh_count = series_top_5_crimes['Primary Type']\n",
    "fig, ax = plt.subplots(figsize = (5,7))\n",
    "ax.barh(barh_cat,\n",
    "        barh_count,height=0.9, color = '#008000')\n",
    "ax.text(x=-125000, y = -1.15, s = 'Theft the Most Reported Crime in Chicago From 2020 - 2024', fontsize = 'xx-large', fontweight = 'semibold')\n",
    "ax.tick_params(axis='y', labelsize=9, colors='#808080')\n",
    "ax.invert_yaxis()\n",
    "ax.set_xticklabels(['0','50,000','100,000','150,000','200,000','250,000'])\n",
    "ax.xaxis.tick_top()\n",
    "ax.tick_params(axis='x', colors='#808080')\n",
    "for location in ['left', 'right', 'bottom', 'top']:\n",
    "    ax.spines[location].set_visible(False)\n",
    "\n",
    "ax.tick_params(left=False)\n"
   ]
  },
  {
   "cell_type": "markdown",
   "id": "b2b5d22f",
   "metadata": {},
   "source": [
    "# Homicide Count From 2020-2024"
   ]
  },
  {
   "cell_type": "markdown",
   "id": "d8c30cf1",
   "metadata": {},
   "source": [
    "### Calculating Homicides Per Year"
   ]
  },
  {
   "cell_type": "code",
   "execution_count": 32,
   "id": "c2a20893",
   "metadata": {
    "scrolled": true
   },
   "outputs": [
    {
     "name": "stdout",
     "output_type": "stream",
     "text": [
      "Year\n",
      "2020    796\n",
      "2021    811\n",
      "2022    733\n",
      "2023    632\n",
      "2024    585\n",
      "Name: Primary Type, dtype: int64\n"
     ]
    }
   ],
   "source": [
    "five_yr_homicides = five_yr_crimes[five_yr_crimes['Primary Type']=='HOMICIDE']\n",
    "yearly_homicides = five_yr_homicides.groupby('Year')\n",
    "yr_h = yearly_homicides['Primary Type'] #all primary type values are homicide \n",
    "cnt_yearly_homicides = yr_h.count()\n",
    "print(cnt_yearly_homicides)"
   ]
  },
  {
   "cell_type": "markdown",
   "id": "0ac87e02",
   "metadata": {},
   "source": [
    "### Calculating Homicide Arrests Per Year"
   ]
  },
  {
   "cell_type": "code",
   "execution_count": 34,
   "id": "f6cb9f15",
   "metadata": {
    "scrolled": false
   },
   "outputs": [
    {
     "name": "stdout",
     "output_type": "stream",
     "text": [
      "Year\n",
      "2020    351\n",
      "2021    292\n",
      "2022    314\n",
      "2023    227\n",
      "2024    162\n",
      "Name: Arrest, dtype: int64\n"
     ]
    }
   ],
   "source": [
    "Arrests = five_yr_crimes[five_yr_crimes[\"Arrest\"]==True]\n",
    "homicide_arrests = Arrests[Arrests['Primary Type']=='HOMICIDE']\n",
    "homicide_arrest_year_groupby = homicide_arrests.groupby('Year')\n",
    "cnt_h_arrest = homicide_arrest_year_groupby['Arrest'].count()\n",
    "print(cnt_h_arrest)"
   ]
  },
  {
   "cell_type": "markdown",
   "id": "f5fd4fea",
   "metadata": {},
   "source": [
    "### Merging Homicide Data "
   ]
  },
  {
   "cell_type": "code",
   "execution_count": 35,
   "id": "a599c57a",
   "metadata": {
    "scrolled": true
   },
   "outputs": [
    {
     "name": "stdout",
     "output_type": "stream",
     "text": [
      "      Homicides  Homicide_Arrests\n",
      "Year                             \n",
      "2020        796               351\n",
      "2021        811               292\n",
      "2022        733               314\n",
      "2023        632               227\n",
      "2024        585               162\n"
     ]
    }
   ],
   "source": [
    "Homicide_and_Arrests = pd.merge(left = cnt_yearly_homicides, right = cnt_h_arrest, on = 'Year')\n",
    "Homicide_and_Arrests.rename(columns={\"Primary Type\": \"Homicides\"}, inplace = True)\n",
    "Homicide_and_Arrests.rename(columns={\"Arrest\": \"Homicide_Arrests\"}, inplace = True)\n",
    "print(Homicide_and_Arrests)"
   ]
  },
  {
   "cell_type": "code",
   "execution_count": 36,
   "id": "5127c18d",
   "metadata": {},
   "outputs": [],
   "source": [
    "Homicide_and_Arrests_df= pd.DataFrame(Homicide_and_Arrests)\n",
    "Homicide_and_Arrests_df = Homicide_and_Arrests_df.reset_index()"
   ]
  },
  {
   "cell_type": "code",
   "execution_count": 37,
   "id": "2d42cf80",
   "metadata": {
    "scrolled": true
   },
   "outputs": [
    {
     "name": "stdout",
     "output_type": "stream",
     "text": [
      "[0    44.10\n",
      "1    36.00\n",
      "2    42.84\n",
      "3    35.92\n",
      "4    27.69\n",
      "dtype: float64]\n"
     ]
    }
   ],
   "source": [
    "homicide_arrests_diff=[]\n",
    "\n",
    "for v in Homicide_and_Arrests_df:\n",
    "    h = Homicide_and_Arrests_df['Homicides']\n",
    "    ha = Homicide_and_Arrests_df['Homicide_Arrests']\n",
    "    hap = round((ha/h)*100,2)\n",
    "homicide_arrests_diff.append(hap)\n",
    "    \n",
    "print(homicide_arrests_diff)"
   ]
  },
  {
   "cell_type": "code",
   "execution_count": 38,
   "id": "317fa5cb",
   "metadata": {
    "scrolled": true
   },
   "outputs": [
    {
     "name": "stdout",
     "output_type": "stream",
     "text": [
      "0    44.10\n",
      "1    36.00\n",
      "2    42.84\n",
      "3    35.92\n",
      "4    27.69\n",
      "Name: Percent_Arrested, dtype: float64\n"
     ]
    }
   ],
   "source": [
    "had_series = pd.Series([44.10,36.00,42.84,35.92,27.69],name = 'Percent_Arrested')\n",
    "print(had_series)"
   ]
  },
  {
   "cell_type": "code",
   "execution_count": 39,
   "id": "85ad930d",
   "metadata": {
    "scrolled": true
   },
   "outputs": [
    {
     "data": {
      "text/html": [
       "<div>\n",
       "<style scoped>\n",
       "    .dataframe tbody tr th:only-of-type {\n",
       "        vertical-align: middle;\n",
       "    }\n",
       "\n",
       "    .dataframe tbody tr th {\n",
       "        vertical-align: top;\n",
       "    }\n",
       "\n",
       "    .dataframe thead th {\n",
       "        text-align: right;\n",
       "    }\n",
       "</style>\n",
       "<table border=\"1\" class=\"dataframe\">\n",
       "  <thead>\n",
       "    <tr style=\"text-align: right;\">\n",
       "      <th></th>\n",
       "      <th>Year</th>\n",
       "      <th>Homicides</th>\n",
       "      <th>Homicide_Arrests</th>\n",
       "      <th>Percent_Arrested</th>\n",
       "    </tr>\n",
       "  </thead>\n",
       "  <tbody>\n",
       "    <tr>\n",
       "      <th>0</th>\n",
       "      <td>2020</td>\n",
       "      <td>796</td>\n",
       "      <td>351</td>\n",
       "      <td>44.10</td>\n",
       "    </tr>\n",
       "    <tr>\n",
       "      <th>1</th>\n",
       "      <td>2021</td>\n",
       "      <td>811</td>\n",
       "      <td>292</td>\n",
       "      <td>36.00</td>\n",
       "    </tr>\n",
       "    <tr>\n",
       "      <th>2</th>\n",
       "      <td>2022</td>\n",
       "      <td>733</td>\n",
       "      <td>314</td>\n",
       "      <td>42.84</td>\n",
       "    </tr>\n",
       "    <tr>\n",
       "      <th>3</th>\n",
       "      <td>2023</td>\n",
       "      <td>632</td>\n",
       "      <td>227</td>\n",
       "      <td>35.92</td>\n",
       "    </tr>\n",
       "    <tr>\n",
       "      <th>4</th>\n",
       "      <td>2024</td>\n",
       "      <td>585</td>\n",
       "      <td>162</td>\n",
       "      <td>27.69</td>\n",
       "    </tr>\n",
       "  </tbody>\n",
       "</table>\n",
       "</div>"
      ],
      "text/plain": [
       "   Year  Homicides  Homicide_Arrests  Percent_Arrested\n",
       "0  2020        796               351             44.10\n",
       "1  2021        811               292             36.00\n",
       "2  2022        733               314             42.84\n",
       "3  2023        632               227             35.92\n",
       "4  2024        585               162             27.69"
      ]
     },
     "execution_count": 39,
     "metadata": {},
     "output_type": "execute_result"
    }
   ],
   "source": [
    "Homicide_info = pd.concat([Homicide_and_Arrests_df, had_series], axis=1)\n",
    "Homicide_info"
   ]
  },
  {
   "cell_type": "code",
   "execution_count": 208,
   "id": "890a723b",
   "metadata": {},
   "outputs": [
    {
     "data": {
      "text/plain": [
       "37.31"
      ]
     },
     "execution_count": 208,
     "metadata": {},
     "output_type": "execute_result"
    }
   ],
   "source": [
    "Homicide_info[\"Percent_Arrested\"].mean() #Average of percent arrested"
   ]
  },
  {
   "cell_type": "markdown",
   "id": "f6efa280",
   "metadata": {},
   "source": [
    "## Percent Arrested Difference"
   ]
  },
  {
   "cell_type": "code",
   "execution_count": 40,
   "id": "156ec792",
   "metadata": {
    "scrolled": true
   },
   "outputs": [
    {
     "name": "stdout",
     "output_type": "stream",
     "text": [
      "0     NaN\n",
      "1   -8.10\n",
      "2    6.84\n",
      "3   -6.92\n",
      "4   -8.23\n",
      "Name: Percent_Arrested, dtype: float64\n"
     ]
    }
   ],
   "source": [
    "print(Homicide_info['Percent_Arrested'].diff() )# calculating difference"
   ]
  },
  {
   "cell_type": "code",
   "execution_count": 231,
   "id": "8fc7ce83",
   "metadata": {
    "scrolled": true
   },
   "outputs": [
    {
     "data": {
      "text/html": [
       "<div>\n",
       "<style scoped>\n",
       "    .dataframe tbody tr th:only-of-type {\n",
       "        vertical-align: middle;\n",
       "    }\n",
       "\n",
       "    .dataframe tbody tr th {\n",
       "        vertical-align: top;\n",
       "    }\n",
       "\n",
       "    .dataframe thead th {\n",
       "        text-align: right;\n",
       "    }\n",
       "</style>\n",
       "<table border=\"1\" class=\"dataframe\">\n",
       "  <thead>\n",
       "    <tr style=\"text-align: right;\">\n",
       "      <th></th>\n",
       "      <th>Year</th>\n",
       "      <th>Homicides</th>\n",
       "      <th>Homicide_Arrests</th>\n",
       "      <th>Percent_Arrested</th>\n",
       "      <th>Arrest_Percent_Difference</th>\n",
       "    </tr>\n",
       "  </thead>\n",
       "  <tbody>\n",
       "    <tr>\n",
       "      <th>0</th>\n",
       "      <td>2020</td>\n",
       "      <td>796</td>\n",
       "      <td>351</td>\n",
       "      <td>44.10</td>\n",
       "      <td>0.00</td>\n",
       "    </tr>\n",
       "    <tr>\n",
       "      <th>1</th>\n",
       "      <td>2021</td>\n",
       "      <td>811</td>\n",
       "      <td>292</td>\n",
       "      <td>36.00</td>\n",
       "      <td>-8.10</td>\n",
       "    </tr>\n",
       "    <tr>\n",
       "      <th>2</th>\n",
       "      <td>2022</td>\n",
       "      <td>733</td>\n",
       "      <td>314</td>\n",
       "      <td>42.84</td>\n",
       "      <td>6.84</td>\n",
       "    </tr>\n",
       "    <tr>\n",
       "      <th>3</th>\n",
       "      <td>2023</td>\n",
       "      <td>632</td>\n",
       "      <td>227</td>\n",
       "      <td>35.92</td>\n",
       "      <td>-6.92</td>\n",
       "    </tr>\n",
       "    <tr>\n",
       "      <th>4</th>\n",
       "      <td>2024</td>\n",
       "      <td>585</td>\n",
       "      <td>162</td>\n",
       "      <td>27.69</td>\n",
       "      <td>-8.23</td>\n",
       "    </tr>\n",
       "  </tbody>\n",
       "</table>\n",
       "</div>"
      ],
      "text/plain": [
       "   Year  Homicides  Homicide_Arrests  Percent_Arrested  \\\n",
       "0  2020        796               351             44.10   \n",
       "1  2021        811               292             36.00   \n",
       "2  2022        733               314             42.84   \n",
       "3  2023        632               227             35.92   \n",
       "4  2024        585               162             27.69   \n",
       "\n",
       "   Arrest_Percent_Difference  \n",
       "0                       0.00  \n",
       "1                      -8.10  \n",
       "2                       6.84  \n",
       "3                      -6.92  \n",
       "4                      -8.23  "
      ]
     },
     "execution_count": 231,
     "metadata": {},
     "output_type": "execute_result"
    }
   ],
   "source": [
    "pd_series = pd.Series([0,-8.10,6.84,-6.92,-8.23], name = 'Arrest_Percent_Difference') #creating series for percent arrested \n",
    "Homicide_info = pd.concat([Homicide_info, pd_series], axis=1)\n",
    "Homicide_info"
   ]
  },
  {
   "cell_type": "markdown",
   "id": "3666db70",
   "metadata": {},
   "source": [
    "Overall homicides have been decreasing over the last 5 years. The trend is similar for arrests. It is difficult to discern the causes for the decrease in arrests. Nevertheless, despite the positive outcome of decreased homicides, the lack of homicide arrests is an alarming issue for public safety."
   ]
  },
  {
   "cell_type": "markdown",
   "id": "0297e3c2",
   "metadata": {},
   "source": [
    "## Calculating Percent Change for Homicides"
   ]
  },
  {
   "cell_type": "code",
   "execution_count": 233,
   "id": "9ba4a83f",
   "metadata": {},
   "outputs": [],
   "source": [
    "hom_diff = round(Homicide_and_Arrests_df['Homicides'].pct_change(),2)  #percent change \n",
    "hom_series = pd.Series([0, 2.0,-10.0,-14.0,-7.0,], name = 'Homicide_Per_Difference') #creating series \n",
    "Homicide_info = pd.concat([Homicide_info, hom_series], axis=1) #combining to df"
   ]
  },
  {
   "cell_type": "code",
   "execution_count": 234,
   "id": "c4250558",
   "metadata": {
    "scrolled": false
   },
   "outputs": [
    {
     "data": {
      "text/html": [
       "<div>\n",
       "<style scoped>\n",
       "    .dataframe tbody tr th:only-of-type {\n",
       "        vertical-align: middle;\n",
       "    }\n",
       "\n",
       "    .dataframe tbody tr th {\n",
       "        vertical-align: top;\n",
       "    }\n",
       "\n",
       "    .dataframe thead th {\n",
       "        text-align: right;\n",
       "    }\n",
       "</style>\n",
       "<table border=\"1\" class=\"dataframe\">\n",
       "  <thead>\n",
       "    <tr style=\"text-align: right;\">\n",
       "      <th></th>\n",
       "      <th>Year</th>\n",
       "      <th>Homicides</th>\n",
       "      <th>Homicide_Per_Difference</th>\n",
       "      <th>Homicide_Arrests</th>\n",
       "      <th>Percent_Arrested</th>\n",
       "      <th>Arrest_Percent_Difference</th>\n",
       "    </tr>\n",
       "  </thead>\n",
       "  <tbody>\n",
       "    <tr>\n",
       "      <th>0</th>\n",
       "      <td>2020</td>\n",
       "      <td>796</td>\n",
       "      <td>0.0</td>\n",
       "      <td>351</td>\n",
       "      <td>44.10</td>\n",
       "      <td>0.00</td>\n",
       "    </tr>\n",
       "    <tr>\n",
       "      <th>1</th>\n",
       "      <td>2021</td>\n",
       "      <td>811</td>\n",
       "      <td>2.0</td>\n",
       "      <td>292</td>\n",
       "      <td>36.00</td>\n",
       "      <td>-8.10</td>\n",
       "    </tr>\n",
       "    <tr>\n",
       "      <th>2</th>\n",
       "      <td>2022</td>\n",
       "      <td>733</td>\n",
       "      <td>-10.0</td>\n",
       "      <td>314</td>\n",
       "      <td>42.84</td>\n",
       "      <td>6.84</td>\n",
       "    </tr>\n",
       "    <tr>\n",
       "      <th>3</th>\n",
       "      <td>2023</td>\n",
       "      <td>632</td>\n",
       "      <td>-14.0</td>\n",
       "      <td>227</td>\n",
       "      <td>35.92</td>\n",
       "      <td>-6.92</td>\n",
       "    </tr>\n",
       "    <tr>\n",
       "      <th>4</th>\n",
       "      <td>2024</td>\n",
       "      <td>585</td>\n",
       "      <td>-7.0</td>\n",
       "      <td>162</td>\n",
       "      <td>27.69</td>\n",
       "      <td>-8.23</td>\n",
       "    </tr>\n",
       "  </tbody>\n",
       "</table>\n",
       "</div>"
      ],
      "text/plain": [
       "   Year  Homicides  Homicide_Per_Difference  Homicide_Arrests  \\\n",
       "0  2020        796                      0.0               351   \n",
       "1  2021        811                      2.0               292   \n",
       "2  2022        733                    -10.0               314   \n",
       "3  2023        632                    -14.0               227   \n",
       "4  2024        585                     -7.0               162   \n",
       "\n",
       "   Percent_Arrested  Arrest_Percent_Difference  \n",
       "0             44.10                       0.00  \n",
       "1             36.00                      -8.10  \n",
       "2             42.84                       6.84  \n",
       "3             35.92                      -6.92  \n",
       "4             27.69                      -8.23  "
      ]
     },
     "execution_count": 234,
     "metadata": {},
     "output_type": "execute_result"
    }
   ],
   "source": [
    "new_order = ['Year','Homicides','Homicide_Per_Difference', 'Homicide_Arrests','Percent_Arrested','Arrest_Percent_Difference']\n",
    "Homicide_info_2 = Homicide_info[new_order]\n",
    "Homicide_info_2\n"
   ]
  },
  {
   "cell_type": "markdown",
   "id": "25594772",
   "metadata": {},
   "source": [
    "### Observations"
   ]
  },
  {
   "cell_type": "markdown",
   "id": "c1234349",
   "metadata": {},
   "source": [
    "When comparing the homicide percentage difference and arrest percent difference, it is evident that homicide, for the most part, is on a decline since 2022. However, there is no clear trend with arrest percent differences. In 2021, a 2% increase in homicides produced an %8 decline in arrests. The following year, a 10% decline in arrests produced an apoximated 7% increase in arrests. The following years produced a decline in both rates. What is descernable from the data is that the average homicide arrest is about 37% and that in over the last two years, homicides and homicide arrests have been decreasing."
   ]
  },
  {
   "cell_type": "markdown",
   "id": "436f42c1",
   "metadata": {},
   "source": [
    "### Graph on Homicides and Homicide Arrests"
   ]
  },
  {
   "cell_type": "code",
   "execution_count": 230,
   "id": "c5e9ca1d",
   "metadata": {},
   "outputs": [
    {
     "data": {
      "image/png": "[encoded data removed]",
      "text/plain": [
       "<Figure size 700x700 with 1 Axes>"
      ]
     },
     "metadata": {},
     "output_type": "display_data"
    }
   ],
   "source": [
    "X = [2020,2021,2022,2023,2024]\n",
    "bar_Homicide_year = Homicide_info['Year']\n",
    "bar_Homicides = Homicide_info['Homicides']\n",
    "bar_Homicide_arrests = Homicide_info['Homicide_Arrests']\n",
    "\n",
    "fig, ax = plt.subplots(figsize = (7,7))\n",
    "X_axis = np.arange(len(X)) \n",
    "ax.bar(X_axis - .2, bar_Homicides, 0.4, label = 'Homicides', color= '#f77d44', zorder = 2)\n",
    "ax.bar(X_axis + 0.2, bar_Homicide_arrests,0.4, label = 'Arrests',zorder =2)\n",
    "plt.xticks(X_axis, X)\n",
    "ax.text(x = -1 ,y= 900 ,s= 'Less Than Half of Homicides Lead to Arrests in Chicago', fontsize = 'xx-large', fontweight = 'semibold')\n",
    "ax.text(x = -1 ,y= 870, s = 'From 2020 to 2024,The Average Homicide Arrest Per Year Was 37.31%', fontsize = 'large')\n",
    "ax.tick_params(bottom=False, left=False)\n",
    "ax.tick_params(axis='x', colors='grey')\n",
    "ax.tick_params(axis='y', colors='grey')\n",
    "for location in ['left', 'right', 'bottom', 'top']:\n",
    "    ax.spines[location].set_visible(False)\n",
    "ax.grid(color='darkgray',visible=True,linewidth=.5, zorder= 1, ls = '--')\n",
    "plt.ylim(0, 825)\n",
    "plt.xlim(-.5099, 4.39)\n",
    "plt.legend() \n",
    "plt.show()\n",
    "\n"
   ]
  },
  {
   "cell_type": "markdown",
   "id": "c6751f66",
   "metadata": {},
   "source": [
    "### Graph For Yearly Homicides"
   ]
  },
  {
   "cell_type": "code",
   "execution_count": 228,
   "id": "293b2f28",
   "metadata": {},
   "outputs": [
    {
     "data": {
      "image/png": "[encoded data removed]",
      "text/plain": [
       "<Figure size 500x700 with 1 Axes>"
      ]
     },
     "metadata": {},
     "output_type": "display_data"
    },
    {
     "name": "stdout",
     "output_type": "stream",
     "text": [
      "Percent Change since 2020 =  -26.51\n",
      "Average homicides over the last 4 years = 711.4\n"
     ]
    }
   ],
   "source": [
    "barh_Homicide_year = Homicide_info['Year']\n",
    "barh_Homicides = Homicide_info['Homicides']\n",
    "\n",
    "fig, ax = plt.subplots(figsize = (5,7))\n",
    "ax.barh(barh_Homicide_year,\n",
    "        barh_Homicides,height=0.75,\n",
    "        color= '#f77d44')\n",
    "ax.text(x = -110 ,y= 2018.79 ,s= 'Chicago Homicides Decreasing', fontsize = 'xx-large', fontweight = 'semibold')\n",
    "ax.text(x = -105 ,y= 2018.99, s = 'Homicide Total decreased by 26.5% since 2020', fontsize = 'large')\n",
    "ax.invert_yaxis()\n",
    "ax.xaxis.tick_top()\n",
    "ax.tick_params(top=False, left=False)\n",
    "ax.tick_params(axis='x', colors='grey')\n",
    "for location in ['left', 'right', 'bottom', 'top']:\n",
    "    ax.spines[location].set_visible(False)\n",
    "ax.axvline(x=711,ymin=0.045,c='grey', alpha=0.5, linewidth= 1)\n",
    "plt.show()\n",
    "print(\"Percent Change since 2020 = \", round(((585 - 796)  / 796) * 100,2) ) #percent change\n",
    "print(\"Average homicides over the last 4 years =\", barh_Homicides.sum()/5) #average "
   ]
  },
  {
   "cell_type": "markdown",
   "id": "bcc5d994",
   "metadata": {},
   "source": [
    "# Serious Crimes"
   ]
  },
  {
   "cell_type": "markdown",
   "id": "d6ae31d9",
   "metadata": {},
   "source": [
    "This section will cover the frequency of 'serious crimes' in Chicago. According to the Federal Bureau of Investigations, \n",
    "\n",
    "    \"The UCR Program collects data about Part I offenses in order to measure the level and scope of crime occurring throughout the nation. The program’s founders chose these offenses because they are serious crimes, they occur with regularity in all areas of the country, and they are likely to be reported to the police.\"(Offense Definitions 2019)\n",
    "\n",
    "List of serious crimes :\n",
    "1. Criminal homicide\n",
    "2. Rape\n",
    "3. Robbery\n",
    "4. Aggravated assault\n",
    "5. Burglary (breaking or entering)\n",
    "6. Larceny-theft (except motor vehicle theft)\n",
    "7. Motor vehicle theft\n",
    "8. Arson\n",
    "9. Human Trafficking, commercial sex acts\n",
    "10. Human Trafficking, involuntary servitude"
   ]
  },
  {
   "cell_type": "code",
   "execution_count": 73,
   "id": "c360d966",
   "metadata": {},
   "outputs": [
    {
     "data": {
      "text/plain": [
       "array(['OFFENSE INVOLVING CHILDREN', 'NARCOTICS', 'CRIMINAL DAMAGE',\n",
       "       'THEFT', 'SEX OFFENSE', 'ROBBERY', 'MOTOR VEHICLE THEFT',\n",
       "       'BURGLARY', 'BATTERY', 'HOMICIDE', 'CRIMINAL SEXUAL ASSAULT',\n",
       "       'OTHER OFFENSE', 'WEAPONS VIOLATION', 'DECEPTIVE PRACTICE',\n",
       "       'STALKING', 'CRIMINAL TRESPASS', 'ASSAULT', 'PROSTITUTION',\n",
       "       'KIDNAPPING', 'ARSON', 'CONCEALED CARRY LICENSE VIOLATION',\n",
       "       'INTERFERENCE WITH PUBLIC OFFICER', 'PUBLIC PEACE VIOLATION',\n",
       "       'LIQUOR LAW VIOLATION', 'INTIMIDATION', 'HUMAN TRAFFICKING',\n",
       "       'GAMBLING', 'OBSCENITY', 'PUBLIC INDECENCY',\n",
       "       'OTHER NARCOTIC VIOLATION', 'NON-CRIMINAL', 'CRIM SEXUAL ASSAULT',\n",
       "       'RITUALISM'], dtype=object)"
      ]
     },
     "execution_count": 73,
     "metadata": {},
     "output_type": "execute_result"
    }
   ],
   "source": [
    "five_yr_crimes[\"Primary Type\"].unique()"
   ]
  },
  {
   "cell_type": "code",
   "execution_count": 74,
   "id": "b4786134",
   "metadata": {},
   "outputs": [],
   "source": [
    "serious_crimes = ['SEX OFFENSE','MOTOR VEHICLE THEFT','ARSON','ROBBERY', 'ASSAULT', 'BURGLARY', 'CRIMINAL SEXUAL ASSAULT','HOMICIDE', 'HUMAN TRAFFICKING','CRIM SEXUAL ASSAULT']"
   ]
  },
  {
   "cell_type": "code",
   "execution_count": 75,
   "id": "a9d6e0f2",
   "metadata": {
    "scrolled": true
   },
   "outputs": [
    {
     "data": {
      "text/plain": [
       "ASSAULT                    105472\n",
       "MOTOR VEHICLE THEFT         92946\n",
       "ROBBERY                     44914\n",
       "BURGLARY                    38907\n",
       "CRIMINAL SEXUAL ASSAULT      7507\n",
       "SEX OFFENSE                  5882\n",
       "HOMICIDE                     3557\n",
       "ARSON                        2534\n",
       "CRIM SEXUAL ASSAULT            75\n",
       "HUMAN TRAFFICKING              57\n",
       "Name: Primary Type, dtype: int64"
      ]
     },
     "execution_count": 75,
     "metadata": {},
     "output_type": "execute_result"
    }
   ],
   "source": [
    "five_yr_scrimes = five_yr_crimes[five_yr_crimes['Primary Type'].isin(serious_crimes)] # filter only dangerous crimes\n",
    "five_yr_scrimes['Primary Type'].value_counts()"
   ]
  },
  {
   "cell_type": "code",
   "execution_count": 76,
   "id": "1c530176",
   "metadata": {
    "scrolled": true
   },
   "outputs": [
    {
     "data": {
      "text/plain": [
       "ASSAULT                    105472\n",
       "MOTOR VEHICLE THEFT         92946\n",
       "ROBBERY                     44914\n",
       "BURGLARY                    38907\n",
       "CRIMINAL SEXUAL ASSAULT      7507\n",
       "SEX OFFENSE                  5882\n",
       "HOMICIDE                     3557\n",
       "ARSON                        2534\n",
       "Name: Primary Type, dtype: int64"
      ]
     },
     "execution_count": 76,
     "metadata": {},
     "output_type": "execute_result"
    }
   ],
   "source": [
    "top_8_serious_crimes = five_yr_scrimes['Primary Type'].value_counts().head(8)\n",
    "top_8_serious_crimes"
   ]
  },
  {
   "cell_type": "code",
   "execution_count": 115,
   "id": "db0882a9",
   "metadata": {},
   "outputs": [
    {
     "data": {
      "text/plain": [
       "Text(-3.5, 1.6, 'Assault in Chicago accounted for more than 105,400 reports in recent years')"
      ]
     },
     "execution_count": 115,
     "metadata": {},
     "output_type": "execute_result"
    },
    {
     "data": {
      "image/png": "[encoded data removed]",
      "text/plain": [
       "<Figure size 640x480 with 1 Axes>"
      ]
     },
     "metadata": {},
     "output_type": "display_data"
    }
   ],
   "source": [
    "fig, ax = plt.subplots()\n",
    "pie_label = ['Assault','Motor Vehicle Theft','Robbery','Burglary','Criminal Sexual Assault','Sex Offense','Homicide','Arson']\n",
    "pie_colors = ['royalblue','tab:orange','seagreen','crimson','goldenrod','mediumpurple','darkturquoise','violet']\n",
    "ax.pie(top_8_serious_crimes,autopct='%.1f%%', textprops={'fontsize': 9.2, 'color': 'white', 'weight': 'heavy'},\n",
    "       labeldistance=1.35, pctdistance=.85, radius =1.4, colors = pie_colors)\n",
    "ax.legend(title='Serious Crime Type',labels = pie_label, bbox_to_anchor=(-.2, .8), loc='upper right')\n",
    "#plt.title( \"From 2020 to 2024, Assault leads in most reports for Serious Crimes\")\n",
    "ax.text(x = -3.7, y = 1.8, s= \"Assault is The Most Reported 'Serious Crime' in Chicago Between 2020 - 2024\",fontsize = 'xx-large', fontweight = 'semibold')\n",
    "ax.text(x= -3.5, y= 1.6, s = 'Assault in Chicago accounted for more than 105,400 reports in recent years', fontsize = 'x-large')"
   ]
  },
  {
   "cell_type": "markdown",
   "id": "e28e504e",
   "metadata": {},
   "source": [
    "## Closer Look at Serious Crimes Per Year"
   ]
  },
  {
   "cell_type": "code",
   "execution_count": 78,
   "id": "4ffb7664",
   "metadata": {
    "scrolled": true
   },
   "outputs": [
    {
     "name": "stdout",
     "output_type": "stream",
     "text": [
      "Year\n",
      "2020    48453\n",
      "2021    49517\n",
      "2022    62819\n",
      "2023    74573\n",
      "2024    66489\n",
      "Name: Primary Type, dtype: int64\n"
     ]
    }
   ],
   "source": [
    "yearly_scrimes = five_yr_scrimes.groupby('Year')\n",
    "yr_sc = yearly_scrimes['Primary Type']\n",
    "cnt_yearly_scrimes = yr_sc.count()\n",
    "print(cnt_yearly_scrimes) #serious crime count per year "
   ]
  },
  {
   "cell_type": "code",
   "execution_count": 79,
   "id": "c60c1f4f",
   "metadata": {},
   "outputs": [],
   "source": [
    "serious_crimes_2020 = five_yr_scrimes[five_yr_scrimes['Year']==2020] #Sorting serious crimes per year\n",
    "serious_crimes_2021 = five_yr_scrimes[five_yr_scrimes['Year']==2021]\n",
    "serious_crimes_2022 = five_yr_scrimes[five_yr_scrimes['Year']==2022]\n",
    "serious_crimes_2023 = five_yr_scrimes[five_yr_scrimes['Year']==2023]\n",
    "serious_crimes_2024 = five_yr_scrimes[five_yr_scrimes['Year']==2024]"
   ]
  },
  {
   "cell_type": "markdown",
   "id": "60d5d6af",
   "metadata": {},
   "source": [
    "## What Are The Top 3 Most Reported Crimes Per Year?"
   ]
  },
  {
   "cell_type": "code",
   "execution_count": 80,
   "id": "462ef159",
   "metadata": {
    "scrolled": true
   },
   "outputs": [
    {
     "data": {
      "text/plain": [
       "ASSAULT                18259\n",
       "MOTOR VEHICLE THEFT     9959\n",
       "BURGLARY                8758\n",
       "Name: Primary Type, dtype: int64"
      ]
     },
     "execution_count": 80,
     "metadata": {},
     "output_type": "execute_result"
    }
   ],
   "source": [
    "serious_crimes_2020['Primary Type'].value_counts().head(3)"
   ]
  },
  {
   "cell_type": "code",
   "execution_count": 81,
   "id": "5342a03e",
   "metadata": {},
   "outputs": [
    {
     "data": {
      "text/plain": [
       "ASSAULT                20343\n",
       "MOTOR VEHICLE THEFT    10605\n",
       "ROBBERY                 7920\n",
       "Name: Primary Type, dtype: int64"
      ]
     },
     "execution_count": 81,
     "metadata": {},
     "output_type": "execute_result"
    }
   ],
   "source": [
    "serious_crimes_2021['Primary Type'].value_counts().head(3).head(3)"
   ]
  },
  {
   "cell_type": "code",
   "execution_count": 82,
   "id": "3a82cfba",
   "metadata": {},
   "outputs": [
    {
     "data": {
      "text/plain": [
       "MOTOR VEHICLE THEFT    21466\n",
       "ASSAULT                20810\n",
       "ROBBERY                 8964\n",
       "Name: Primary Type, dtype: int64"
      ]
     },
     "execution_count": 82,
     "metadata": {},
     "output_type": "execute_result"
    }
   ],
   "source": [
    "serious_crimes_2022['Primary Type'].value_counts().head(3).head(3)"
   ]
  },
  {
   "cell_type": "code",
   "execution_count": 83,
   "id": "3d92c198",
   "metadata": {},
   "outputs": [
    {
     "data": {
      "text/plain": [
       "MOTOR VEHICLE THEFT    29252\n",
       "ASSAULT                22626\n",
       "ROBBERY                11052\n",
       "Name: Primary Type, dtype: int64"
      ]
     },
     "execution_count": 83,
     "metadata": {},
     "output_type": "execute_result"
    }
   ],
   "source": [
    "serious_crimes_2023['Primary Type'].value_counts().head(3).head(3)"
   ]
  },
  {
   "cell_type": "code",
   "execution_count": 84,
   "id": "c4907954",
   "metadata": {
    "scrolled": true
   },
   "outputs": [
    {
     "data": {
      "text/plain": [
       "ASSAULT                23434\n",
       "MOTOR VEHICLE THEFT    21664\n",
       "ROBBERY                 9123\n",
       "Name: Primary Type, dtype: int64"
      ]
     },
     "execution_count": 84,
     "metadata": {},
     "output_type": "execute_result"
    }
   ],
   "source": [
    "serious_crimes_2024['Primary Type'].value_counts().head(3).head(3)"
   ]
  },
  {
   "cell_type": "markdown",
   "id": "080c5c3f",
   "metadata": {},
   "source": [
    "A significant observation from the data is the increase in **motor vehicle theft**. The lowest report was in 2020 with 9,959. At its highest it was 29,252 in 2023. This is an outstanding **193% increase**. However, in 2024 motor vehicle theft decreased by aproximately **26%** with a total of 21,664 reports. \n",
    "\n",
    "Moreover, assault reports have been growing minimally and steadily since 2020. "
   ]
  },
  {
   "cell_type": "markdown",
   "id": "342e6a82",
   "metadata": {},
   "source": [
    "# Creating Table For Top 3 Serious Crimes"
   ]
  },
  {
   "cell_type": "markdown",
   "id": "aa96e94e",
   "metadata": {},
   "source": [
    "## Motor Vehicle Theft"
   ]
  },
  {
   "cell_type": "code",
   "execution_count": 85,
   "id": "9368abb3",
   "metadata": {
    "scrolled": false
   },
   "outputs": [
    {
     "name": "stdout",
     "output_type": "stream",
     "text": [
      "Year\n",
      "2020     9959\n",
      "2021    10605\n",
      "2022    21466\n",
      "2023    29252\n",
      "2024    21664\n",
      "Name: Primary Type, dtype: int64\n"
     ]
    }
   ],
   "source": [
    "five_yr_vehicle_theft =five_yr_scrimes[five_yr_scrimes['Primary Type'] == 'MOTOR VEHICLE THEFT']\n",
    "vehicle_theft_groupby=five_yr_vehicle_theft.groupby('Year')\n",
    "vehicle_theft_column = vehicle_theft_groupby['Primary Type']\n",
    "yrly_vehicle_theft = vehicle_theft_column .count()\n",
    "print(yrly_vehicle_theft)"
   ]
  },
  {
   "cell_type": "markdown",
   "id": "e73e1096",
   "metadata": {},
   "source": [
    "## Assault "
   ]
  },
  {
   "cell_type": "code",
   "execution_count": 87,
   "id": "17b29697",
   "metadata": {
    "scrolled": true
   },
   "outputs": [
    {
     "name": "stdout",
     "output_type": "stream",
     "text": [
      "Year\n",
      "2020    18259\n",
      "2021    20343\n",
      "2022    20810\n",
      "2023    22626\n",
      "2024    23434\n",
      "Name: Primary Type, dtype: int64\n"
     ]
    }
   ],
   "source": [
    "five_yr_assault =five_yr_scrimes[five_yr_scrimes['Primary Type'] == 'ASSAULT']\n",
    "assault_groupby=five_yr_assault.groupby('Year')\n",
    "assault_column = assault_groupby['Primary Type']\n",
    "yrly_assault = assault_column.count()\n",
    "print(yrly_assault)"
   ]
  },
  {
   "cell_type": "markdown",
   "id": "a49effdb",
   "metadata": {},
   "source": [
    "## Robbery "
   ]
  },
  {
   "cell_type": "code",
   "execution_count": 89,
   "id": "6537461d",
   "metadata": {
    "scrolled": true
   },
   "outputs": [
    {
     "name": "stdout",
     "output_type": "stream",
     "text": [
      "Year\n",
      "2020     7855\n",
      "2021     7920\n",
      "2022     8964\n",
      "2023    11052\n",
      "2024     9123\n",
      "Name: Primary Type, dtype: int64\n"
     ]
    }
   ],
   "source": [
    "five_yr_robbery =five_yr_scrimes[five_yr_scrimes['Primary Type'] == 'ROBBERY']\n",
    "robbery_groupby=five_yr_robbery.groupby('Year')\n",
    "robbery_column = robbery_groupby['Primary Type']\n",
    "yrly_robbery = robbery_column.count()\n",
    "print(yrly_robbery)"
   ]
  },
  {
   "cell_type": "markdown",
   "id": "89349f57",
   "metadata": {},
   "source": [
    "## Findings"
   ]
  },
  {
   "cell_type": "code",
   "execution_count": 525,
   "id": "71b9e0ba",
   "metadata": {},
   "outputs": [
    {
     "name": "stdout",
     "output_type": "stream",
     "text": [
      "Motor Vehicle Theft in 2024 has increased by 117.53 since 2020\n"
     ]
    }
   ],
   "source": [
    "print(\"Motor Vehicle Theft in 2024 has increased by\",round(((21664-9959)/9959)*100,2),\"since 2020\")"
   ]
  },
  {
   "cell_type": "code",
   "execution_count": 526,
   "id": "f3f3f24d",
   "metadata": {
    "scrolled": false
   },
   "outputs": [
    {
     "name": "stdout",
     "output_type": "stream",
     "text": [
      "Assault increased by 28.34 % from 2020 to 2024\n"
     ]
    }
   ],
   "source": [
    "print(\"Assault increased by\", round(((23434 - 18259)/18259)*100,2),\"%\",\"from 2020 to 2024\")"
   ]
  },
  {
   "cell_type": "code",
   "execution_count": 527,
   "id": "df4ea320",
   "metadata": {},
   "outputs": [
    {
     "name": "stdout",
     "output_type": "stream",
     "text": [
      "Robbery has increased from 2020 to 2024 by 16.14 %\n",
      "The average robbery frequency from 2020 to 2024 is 8982.8\n",
      "Chicago experienced a robbery spike of 11,052 in 2023. A 2088 increase of the previous year.\n"
     ]
    }
   ],
   "source": [
    "print(\"Robbery has increased from 2020 to 2024 by\",round(((9123-7855)/7855)*100,2),\"%\")\n",
    "print(\"The average robbery frequency from 2020 to 2024 is\", yrly_robbery.mean())\n",
    "print(\"Chicago experienced a robbery spike of 11,052 in 2023. A\", 11052-8964,\"increase of the previous year.\")"
   ]
  },
  {
   "cell_type": "markdown",
   "id": "5bd58fc8",
   "metadata": {},
   "source": [
    "## Merging data on Top 3 Serious Crimes"
   ]
  },
  {
   "cell_type": "code",
   "execution_count": 91,
   "id": "d091549e",
   "metadata": {
    "scrolled": false
   },
   "outputs": [
    {
     "data": {
      "text/html": [
       "<div>\n",
       "<style scoped>\n",
       "    .dataframe tbody tr th:only-of-type {\n",
       "        vertical-align: middle;\n",
       "    }\n",
       "\n",
       "    .dataframe tbody tr th {\n",
       "        vertical-align: top;\n",
       "    }\n",
       "\n",
       "    .dataframe thead th {\n",
       "        text-align: right;\n",
       "    }\n",
       "</style>\n",
       "<table border=\"1\" class=\"dataframe\">\n",
       "  <thead>\n",
       "    <tr style=\"text-align: right;\">\n",
       "      <th></th>\n",
       "      <th>Year</th>\n",
       "      <th>Motor Vehicle Theft</th>\n",
       "      <th>Assault</th>\n",
       "      <th>Robbery</th>\n",
       "    </tr>\n",
       "  </thead>\n",
       "  <tbody>\n",
       "    <tr>\n",
       "      <th>0</th>\n",
       "      <td>2020</td>\n",
       "      <td>9959</td>\n",
       "      <td>18259</td>\n",
       "      <td>7855</td>\n",
       "    </tr>\n",
       "    <tr>\n",
       "      <th>1</th>\n",
       "      <td>2021</td>\n",
       "      <td>10605</td>\n",
       "      <td>20343</td>\n",
       "      <td>7920</td>\n",
       "    </tr>\n",
       "    <tr>\n",
       "      <th>2</th>\n",
       "      <td>2022</td>\n",
       "      <td>21466</td>\n",
       "      <td>20810</td>\n",
       "      <td>8964</td>\n",
       "    </tr>\n",
       "    <tr>\n",
       "      <th>3</th>\n",
       "      <td>2023</td>\n",
       "      <td>29252</td>\n",
       "      <td>22626</td>\n",
       "      <td>11052</td>\n",
       "    </tr>\n",
       "    <tr>\n",
       "      <th>4</th>\n",
       "      <td>2024</td>\n",
       "      <td>21664</td>\n",
       "      <td>23434</td>\n",
       "      <td>9123</td>\n",
       "    </tr>\n",
       "  </tbody>\n",
       "</table>\n",
       "</div>"
      ],
      "text/plain": [
       "   Year  Motor Vehicle Theft  Assault  Robbery\n",
       "0  2020                 9959    18259     7855\n",
       "1  2021                10605    20343     7920\n",
       "2  2022                21466    20810     8964\n",
       "3  2023                29252    22626    11052\n",
       "4  2024                21664    23434     9123"
      ]
     },
     "execution_count": 91,
     "metadata": {},
     "output_type": "execute_result"
    }
   ],
   "source": [
    "Top_3_Serious_Crimes = pd.merge(left = yrly_vehicle_theft, right = yrly_assault, on = 'Year')\n",
    "Top_3_Serious_Crimes.rename(columns={\"Primary Type_x\": \"Motor Vehicle Theft\"}, inplace = True)\n",
    "Top_3_Serious_Crimes.rename(columns={\"Primary Type_y\": \"Assault\"}, inplace = True)\n",
    "Top_3_Serious_Crimes = pd.merge(left = Top_3_Serious_Crimes, right = yrly_robbery, on ='Year')\n",
    "Top_3_Serious_Crimes.rename(columns={\"Primary Type\": \"Robbery\"}, inplace = True)\n",
    "Top_3_Serious_Crimes= Top_3_Serious_Crimes.reset_index()\n",
    "Top_3_Serious_Crimes"
   ]
  },
  {
   "cell_type": "markdown",
   "id": "a261c918",
   "metadata": {},
   "source": [
    "## Graphing Top 3 Serious Crimes"
   ]
  },
  {
   "cell_type": "code",
   "execution_count": 132,
   "id": "390b69d6",
   "metadata": {},
   "outputs": [
    {
     "name": "stderr",
     "output_type": "stream",
     "text": [
      "/var/folders/tg/44q7hwts7n96248gzc1xgf3m0000gn/T/ipykernel_3027/33774135.py:7: UserWarning: FixedFormatter should only be used together with FixedLocator\n",
      "  ax.set_yticklabels(['10,000','15,000','20,000','25,000','30,000','35,000'])\n"
     ]
    },
    {
     "data": {
      "text/plain": [
       "Text(2019.4, 31555.99, 'From 2020 to 2023, motor vehicle theft increased by 193% ')"
      ]
     },
     "execution_count": 132,
     "metadata": {},
     "output_type": "execute_result"
    },
    {
     "data": {
      "image/png": "[encoded data removed]",
      "text/plain": [
       "<Figure size 640x480 with 1 Axes>"
      ]
     },
     "metadata": {},
     "output_type": "display_data"
    }
   ],
   "source": [
    "line_years = Top_3_Serious_Crimes['Year']\n",
    "fig, ax = plt.subplots()\n",
    "ax.plot(line_years, Top_3_Serious_Crimes['Motor Vehicle Theft'], label = 'Motor Vehicle Theft')\n",
    "ax.plot(line_years, Top_3_Serious_Crimes['Assault'], label = \"Assault\")\n",
    "ax.plot(line_years, Top_3_Serious_Crimes['Robbery'], label = \"Robbery\")\n",
    "ax.set_xticks(years)\n",
    "ax.set_yticklabels(['10,000','15,000','20,000','25,000','30,000','35,000'])\n",
    "ax.tick_params(left = False, bottom = False)\n",
    "ax.tick_params(axis='x', colors='grey')\n",
    "ax.tick_params(axis='y', colors='grey')\n",
    "ax.grid(color='darkgray',visible=True,linewidth=.6,)\n",
    "ax.set_facecolor('aliceblue')\n",
    "for location in ['left', 'right', 'bottom', 'top']:\n",
    "    ax.spines[location].set_visible(False)\n",
    "ax.legend(title='Crime Type', bbox_to_anchor=(1.04, 1), loc='upper left')\n",
    "ax.text(x = 2019.3 ,y= 33000.79 ,s= 'Motor Vehicle Theft Surges In Chicago  ', fontsize = 'xx-large', fontweight = 'semibold')\n",
    "ax.text(x = 2019.4 ,y= 31555.99, s = 'From 2020 to 2023, motor vehicle theft increased by 193% ', fontsize = 'large')\n"
   ]
  },
  {
   "cell_type": "markdown",
   "id": "0a154544",
   "metadata": {},
   "source": [
    "### Observations"
   ]
  },
  {
   "cell_type": "markdown",
   "id": "0c95a124",
   "metadata": {},
   "source": [
    "Assault frequency has been on a steady incline in over the last four years with an increase of 28.34 % \n",
    "\n",
    "Robbery has increased from 2020 to 2024 by 16.14 %\n",
    "Chicago experienced a robbery spike of 11,052 in 2023. A 2088 increase of the previous year.\n",
    "\n",
    "A significant observation from the data is the increase in motor vehicle theft. The lowest report was in 2020 with 9,959. At its highest it was 29,252 in 2023. This is an outstanding 193% increase. However, in 2024 motor vehicle theft decreased by aproximately 26% with a total of 21,664 reports.\n",
    "\n",
    "Overall, oppposite trend to that of homicides, Serious crimes have been increasing over the last 4 years reaching a peak in 2023 and a decrease in 2024 that is still well above the total count of serious crimes from 2020 to 2022. "
   ]
  },
  {
   "cell_type": "markdown",
   "id": "f8f2d0e4",
   "metadata": {},
   "source": [
    "# Most Reported and Least Reported Crimes Per Aldermanic Ward"
   ]
  },
  {
   "cell_type": "markdown",
   "id": "dde2d342",
   "metadata": {},
   "source": [
    "Exploring reported crime per aldermanic wards can give insight to the degree in which Chicago neighborhoods experience crime. By identifying the ward, I will use Google to pin point the neighborhoods belonging to the specific wards. Furthermore, I will gather ward information using Aldermanic map provided by Illinois Policy and ward demographics using the Chicago Recovery Plan. "
   ]
  },
  {
   "cell_type": "code",
   "execution_count": 95,
   "id": "2213b4e3",
   "metadata": {
    "scrolled": true
   },
   "outputs": [],
   "source": [
    "ward_reported_crimes = five_yr_crimes['Ward'].value_counts().sort_values(ascending=False)"
   ]
  },
  {
   "cell_type": "code",
   "execution_count": 324,
   "id": "542e70a7",
   "metadata": {
    "scrolled": true
   },
   "outputs": [
    {
     "data": {
      "text/plain": [
       "27.0    53695\n",
       "28.0    53610\n",
       "42.0    48282\n",
       "6.0     44731\n",
       "24.0    42894\n",
       "Name: Ward, dtype: int64"
      ]
     },
     "execution_count": 324,
     "metadata": {},
     "output_type": "execute_result"
    }
   ],
   "source": [
    "ward_reported_crimes.iloc[:5] #Top 5 Wards with most reported crime"
   ]
  },
  {
   "cell_type": "code",
   "execution_count": 326,
   "id": "a8e4e910",
   "metadata": {},
   "outputs": [
    {
     "data": {
      "text/plain": [
       "33.0    12261\n",
       "39.0    11871\n",
       "13.0    11838\n",
       "19.0    10953\n",
       "38.0    10687\n",
       "Name: Ward, dtype: int64"
      ]
     },
     "execution_count": 326,
     "metadata": {},
     "output_type": "execute_result"
    }
   ],
   "source": [
    "ward_reported_crimes.iloc[-5:] #Bottom 5 Wards of least reported crime"
   ]
  },
  {
   "cell_type": "markdown",
   "id": "39598364",
   "metadata": {},
   "source": [
    "The aldermanic wards with the most reported crime within the last 5 years are the 27th and 28th ward, both with about 53,600 reports. On the contrary, the 19th and 38th wards represent the least reporting wards with approximately 10.5k-11k reports.     "
   ]
  },
  {
   "cell_type": "markdown",
   "id": "95f071eb",
   "metadata": {},
   "source": [
    "# Aldermanic Wards And 'Serious Crimes'\n"
   ]
  },
  {
   "cell_type": "code",
   "execution_count": 238,
   "id": "f09e25fd",
   "metadata": {
    "scrolled": false
   },
   "outputs": [],
   "source": [
    "ward_dcrimes = five_yr_scrimes.groupby('Ward')\n",
    "Ward_dc = ward_dcrimes['Primary Type']\n",
    "cnt_wdc = Ward_dc.count().sort_values(ascending = False)"
   ]
  },
  {
   "cell_type": "markdown",
   "id": "4893e789",
   "metadata": {},
   "source": [
    "### Top 5 in Serious Crimes"
   ]
  },
  {
   "cell_type": "code",
   "execution_count": 307,
   "id": "48e87155",
   "metadata": {
    "scrolled": true
   },
   "outputs": [
    {
     "name": "stdout",
     "output_type": "stream",
     "text": [
      "Ward\n",
      "28.0    13676\n",
      "6.0     13157\n",
      "27.0    12981\n",
      "8.0     11334\n",
      "7.0     10638\n",
      "Name: Primary Type, dtype: int64\n"
     ]
    }
   ],
   "source": [
    "top_5_ward_sc = cnt_wdc.head(5)\n",
    "print(top_5_ward_sc) "
   ]
  },
  {
   "cell_type": "markdown",
   "id": "dd79d3c1",
   "metadata": {},
   "source": [
    "The 28th ward and 27th ward are in the top 5 list of serious crimes. Both wards appear in the top 3 for most reported crime for aldermanic wards.The 6th ward is second on the list with 13,157 reports. "
   ]
  },
  {
   "cell_type": "markdown",
   "id": "65f0aeb3",
   "metadata": {},
   "source": [
    "### Bottom 5 in Serious Crimes "
   ]
  },
  {
   "cell_type": "code",
   "execution_count": 312,
   "id": "0a051024",
   "metadata": {},
   "outputs": [
    {
     "name": "stdout",
     "output_type": "stream",
     "text": [
      "Ward\n",
      "43.0    2781\n",
      "39.0    2714\n",
      "19.0    2353\n",
      "38.0    2319\n",
      "41.0    2237\n",
      "Name: Primary Type, dtype: int64\n"
     ]
    }
   ],
   "source": [
    "print(cnt_wdc.tail(5)) "
   ]
  },
  {
   "cell_type": "markdown",
   "id": "d731ecb5",
   "metadata": {},
   "source": [
    "The 19th ward and 38th ward appear in the bottom list for both reported crimes and serious crimes. The 41st ward is the least reporting for serious crimes."
   ]
  },
  {
   "cell_type": "markdown",
   "id": "3ab4c71f",
   "metadata": {},
   "source": [
    "# Exploring Cumulative Reported Homicides by Aldermanic Ward "
   ]
  },
  {
   "cell_type": "code",
   "execution_count": 310,
   "id": "df70808e",
   "metadata": {
    "scrolled": true
   },
   "outputs": [],
   "source": [
    "five_yr_homicides = five_yr_crimes[five_yr_crimes['Primary Type']=='HOMICIDE']\n",
    "ward_homicides = five_yr_homicides.groupby('Ward')\n",
    "Ward_h = ward_homicides['Primary Type'] #all primary type values are homicide \n",
    "cnt_ward_homicides = Ward_h.count().sort_values(ascending = False) #Ward leading in homicides"
   ]
  },
  {
   "cell_type": "markdown",
   "id": "c43f4d95",
   "metadata": {},
   "source": [
    "## Average, Median, Average Difference"
   ]
  },
  {
   "cell_type": "code",
   "execution_count": 322,
   "id": "cdef887f",
   "metadata": {
    "scrolled": false
   },
   "outputs": [
    {
     "name": "stdout",
     "output_type": "stream",
     "text": [
      "Average homicide count per ward between 2020-2024 = 71.14\n",
      "Median homicide count per ward between 2020-2024  = 38.0\n",
      "Average Difference of homicides per ward between 2020-2024 is = -6.0 homicides\n"
     ]
    }
   ],
   "source": [
    "avg_ward_homicides = cnt_ward_homicides .mean()\n",
    "median_ward_homicides = cnt_ward_homicides .median()\n",
    "ward_homicides_diff_avg = round(cnt_ward_homicides.diff().mean(),0)\n",
    "print('Average homicide count per ward between 2020-2024 =' ,avg_ward_homicides .round(2))\n",
    "print('Median homicide count per ward between 2020-2024  =',median_ward_homicides )\n",
    "print('Average Difference of homicides per ward between 2020-2024 is =',ward_homicides_diff_avg,'homicides')"
   ]
  },
  {
   "cell_type": "markdown",
   "id": "9a1213b7",
   "metadata": {},
   "source": [
    "### Top 10 most homicides "
   ]
  },
  {
   "cell_type": "code",
   "execution_count": 301,
   "id": "6184630a",
   "metadata": {
    "scrolled": false
   },
   "outputs": [
    {
     "name": "stdout",
     "output_type": "stream",
     "text": [
      "Ward\n",
      "28.0    305\n",
      "24.0    225\n",
      "6.0     211\n",
      "16.0    202\n",
      "8.0     179\n",
      "9.0     173\n",
      "27.0    169\n",
      "17.0    160\n",
      "21.0    159\n",
      "7.0     150\n",
      "Name: Primary Type, dtype: int64\n",
      "\n",
      "\n",
      "Range of the top 10 list for homicides is 155\n",
      "The difference between the 28th ward and 24th ward is 80\n",
      "The 28th and 27th ward, represented in previous lists for crimes, are in this list as well\n",
      "The 6th ward, appearing second for most reported serious crimes, is third on this list\n"
     ]
    }
   ],
   "source": [
    "top10_ward_homicides = cnt_ward_homicides.iloc[:10]\n",
    "print(top10_ward_homicides) #top 10 on the list\n",
    "print(\"\\n\")\n",
    "print(\"Range of the top 10 list for homicides is\", 305-150)\n",
    "print(\"The difference between the 28th ward and 24th ward is\", 305-225)\n",
    "print(\"The 28th and 27th ward, represented in previous lists for crimes, are in this list as well\")\n",
    "print(\"The 6th ward, appearing second for most reported serious crimes, is third on this list\")"
   ]
  },
  {
   "cell_type": "markdown",
   "id": "69b377ce",
   "metadata": {},
   "source": [
    "### Closer Look at Top 10 list"
   ]
  },
  {
   "cell_type": "code",
   "execution_count": 300,
   "id": "f822a976",
   "metadata": {},
   "outputs": [
    {
     "name": "stdout",
     "output_type": "stream",
     "text": [
      "Ward\n",
      "28.0     NaN\n",
      "24.0   -80.0\n",
      "6.0    -14.0\n",
      "16.0    -9.0\n",
      "8.0    -23.0\n",
      "9.0     -6.0\n",
      "27.0    -4.0\n",
      "17.0    -9.0\n",
      "21.0    -1.0\n",
      "7.0     -9.0\n",
      "Name: Primary Type, dtype: float64\n"
     ]
    }
   ],
   "source": [
    "print(top10_ward_homicides.diff()) # Measuring differences of homicide frequency between wards"
   ]
  },
  {
   "cell_type": "code",
   "execution_count": 276,
   "id": "51aa5abf",
   "metadata": {},
   "outputs": [
    {
     "name": "stdout",
     "output_type": "stream",
     "text": [
      "0\n",
      "-80\n",
      "-94\n",
      "-103\n",
      "-126\n",
      "-132\n",
      "-136\n",
      "-145\n",
      "-146\n",
      "-155\n"
     ]
    }
   ],
   "source": [
    "for v in top10_ward_homicides: #difference of homicide count of 28th ward in comparison to other wards\n",
    "    print (v-305)"
   ]
  },
  {
   "cell_type": "code",
   "execution_count": 277,
   "id": "7c8856a6",
   "metadata": {},
   "outputs": [
    {
     "data": {
      "text/plain": [
       "-9.375"
      ]
     },
     "execution_count": 277,
     "metadata": {},
     "output_type": "execute_result"
    }
   ],
   "source": [
    "top10_ward_homicides.iloc[1:].diff().mean() #difference of values excluding the 1st value "
   ]
  },
  {
   "cell_type": "markdown",
   "id": "04988f08",
   "metadata": {},
   "source": [
    "The 28th ward experiences disporportionately more homicides than other aldermanic wards. The average difference between the alderamnic wards is about 9 homicides. The difference between the ward with most homicides is stark with a difference of over 80 homicides. "
   ]
  },
  {
   "cell_type": "markdown",
   "id": "9e1419e1",
   "metadata": {},
   "source": [
    "### Least Reported Homides Per Ward"
   ]
  },
  {
   "cell_type": "code",
   "execution_count": 315,
   "id": "c4917052",
   "metadata": {
    "scrolled": false
   },
   "outputs": [
    {
     "name": "stdout",
     "output_type": "stream",
     "text": [
      "Ward\n",
      "47.0    11\n",
      "2.0     10\n",
      "45.0     9\n",
      "32.0     7\n",
      "44.0     7\n",
      "19.0     7\n",
      "38.0     6\n",
      "13.0     6\n",
      "41.0     4\n",
      "43.0     3\n",
      "Name: Primary Type, dtype: int64\n",
      "\n",
      "\n",
      "The range for the bottom 10 for homicides is 8\n",
      "Recurring wards from the previous list of least reported crimes are the 38th,19th, and 41st wards\n",
      "The 43rd ward has reported only 3 homicides in the last 5 years\n"
     ]
    }
   ],
   "source": [
    "print(cnt_ward_homicides.iloc[40:]) #bottom 10 on the list\n",
    "print(\"\\n\")\n",
    "print(\"The range for the bottom 10 for homicides is\",11-3)\n",
    "print(\"Recurring wards from the previous list of least reported crimes are the 38th,19th, and 41st wards\")\n",
    "print(\"The 43rd ward has reported only 3 homicides in the last 5 years\")"
   ]
  },
  {
   "cell_type": "markdown",
   "id": "9b5e2df8",
   "metadata": {},
   "source": [
    "## Classifying Safe Aldermanic Wards"
   ]
  },
  {
   "cell_type": "markdown",
   "id": "ae64c6e7",
   "metadata": {},
   "source": [
    "   ### Safe Aldermanic Wards"
   ]
  },
  {
   "cell_type": "markdown",
   "id": "397b1843",
   "metadata": {},
   "source": [
    "The wards consistently appearing least for frequency of crimes and homicides are: \n",
    "- 38th ward\n",
    "- 13th ward\n",
    "- 19th ward \n",
    "- 43rd Ward\n",
    "- 41st ward"
   ]
  },
  {
   "cell_type": "markdown",
   "id": "d7e8df52",
   "metadata": {},
   "source": [
    "### Safe Aldermanic Wards Demographics"
   ]
  },
  {
   "cell_type": "markdown",
   "id": "ed6f241e",
   "metadata": {},
   "source": [
    "***1. The ward with the Least Reported Crime is the 38th Ward.It's neighborhoods are:***\n",
    "- Schorch Forest View\n",
    "- Irving Wood\n",
    "- Belmont Terrace\n",
    "- Belmont Heights\n",
    "- Dunning\n",
    "- Schorsch Village \n",
    "- Portage Park\n",
    "- Martin Luther\n",
    "\n",
    "> **38th Ward Income:**\n",
    "- 26.6% of its residents make between 75k-125k \n",
    "- 24.0% make over 125k.\n",
    "- 17.0% make 50k-75k\n",
    "- 15.6% make 25k-50k\n",
    "- 14.8% Under 25k\n",
    "    \n",
    "> **38th Ward Race/Ethnicity:**\n",
    "- 60.4% White\n",
    "- 29.4% Hispanic\n",
    "- 6.0% Asian\n",
    "- 1.9% Black \n",
    "\n",
    "The 38th ward is made up of high income households. The racial/ethnic make up of the ward is about 60% White and 30% Hispanic. \n",
    "\n",
    "***2. The 43rd ward reports the Least Amount of Homicides and has the neighborhoods of:***\n",
    "- Lincoln Park, \n",
    "- Gold Coast \n",
    "- Old Town Triangle. \n",
    "\n",
    "> **43rd Ward Income** \n",
    "\n",
    "- 45.4% make over 125k\n",
    "- 19.9% make between 75k - 125k \n",
    "\n",
    "> **43rd Ward Demographics**\n",
    "- 80.9% White\n",
    "- 7.6% Asian \n",
    "- 5.4% Hispanic\n",
    "- 3.2% Black \n",
    "\n",
    "The 43rd ward is a very affluent. Approximately 45% of its residents are upper middle class. About 81% of its residents are White. \n",
    "\n",
    "3. **The 41st Ward Reports the Least Amount of Serious Crimes** and is composed of:\n",
    "- Ohare\n",
    "- Oriole Park\n",
    "- Edison Park\n",
    "- Norwood Park\n",
    "- Union Ridge \n",
    "- Big Oaks \n",
    "\n",
    "**41st Ward Income** \n",
    "\n",
    "- 26.9 % are upper middle class making over 125k a year.\n",
    "- 25.2 % of its residents are middle class making between 75k - 125k a year\n",
    "- 17.5% 50k -75k\n",
    "- 15.6% 25k-50k\n",
    "- 14.8% Under 25k\n",
    "\n",
    "**41st Ward Demographics**\n",
    "\n",
    "- 67.6% White\n",
    "- 22.1% Hispanic\n",
    "- 6.2% Asian \n",
    "- 1.6% Black \n",
    "\n",
    "The 41st Ward has income groups that are more equally distributed. Nevertheless, the larger portion of residents are middle to higher class. The 41st ward is predominately White(67.6%) but has a 20% Hispanic population. \n",
    "\n",
    "4. **The 13th ward** , located on the far west side of the city, reports a low amount of total crime and homicides. Its neighborhoods are: \n",
    "- West Lawn\n",
    "- Chrysler Village\n",
    "- Garfield Ridge\n",
    "- Clearing\n",
    "- Clearing West\n",
    "\n",
    "\n",
    "**13th Ward Income**\n",
    "\n",
    "The Household income ranges in the 13th ward are more equally distributed:\n",
    "- 22.9% of households make between 25k-50k\n",
    "- 20.8% make over 125k\n",
    "- 20.7% make between 75k-125k\n",
    "- 18.4% make between 50-75k\n",
    "- 17.2% under 25k\n",
    "\n",
    "\n",
    "**13th Ward Demographics**\n",
    "\n",
    "- 62.9% Hispanic\n",
    "- 34.5% White\n",
    "- 0.6% Asian\n",
    "- 1.5% Black \n",
    "\n",
    "The 13th ward's income groups are close to being equally distributed with the lower class and lower middle class (25-50k)slightly being more representative(22.9%). The ward is also predominately Hispanic with the second biggest group being White. \n",
    "\n",
    "5. **One of the wards with the least reported crime, the 19th ward**, located on the southwest edge of the city, contains the neighborhoods of :\n",
    "- Beverly \n",
    "- West Beverly \n",
    "- East Beverly \n",
    "- Morgan Park\n",
    "- West Morgan Park \n",
    "- MT Greenwood\n",
    "- Kennedy Park\n",
    "- Beverly Woods\n",
    "\n",
    "**19th Ward Income**\n",
    "\n",
    "- 30.5% make over 125k\n",
    "- 24.3% make between 75k-125k\n",
    "- 16.1% make 25-50k\n",
    "- 14.8% make 50-75k\n",
    "- 14.3% under 25k\n",
    "\n",
    "**19th Ward Demographics**\n",
    "\n",
    "- 52.9% White\n",
    "- 35.1% Black\n",
    "- 8% Hispanic\n",
    "- 1% Asian\n",
    "\n",
    "The 19th ward can is an affluent ward where most residents are making over 125k and are upper middle class. Furthermore, approximately 53% are White and 35% are Black, a group often not represented in safe aldermanic wards. "
   ]
  },
  {
   "cell_type": "markdown",
   "id": "1f60d483",
   "metadata": {},
   "source": [
    "### Observations\n"
   ]
  },
  {
   "cell_type": "markdown",
   "id": "f03032d3",
   "metadata": {},
   "source": [
    "Many households in aldermanic wards that do not report high volumes of crimes and homicides are predominately White and Hispanic, affluent households making over 75k or 125k and higher. There are two wards, the 41st and 13th, where the income groups are close to being equally distributed. The 19th ward is the only ward where there is a large population of residents that are Black. "
   ]
  },
  {
   "cell_type": "markdown",
   "id": "cb6c7043",
   "metadata": {},
   "source": [
    "### Unsafe Aldermanic Wards"
   ]
  },
  {
   "cell_type": "markdown",
   "id": "aac331b6",
   "metadata": {},
   "source": [
    "***1. The 28th ward has the most reported crimes along with the most homicides in the last 5 years. It is located towards the west side of downtown Chicago. It's neighborhoods are :***\n",
    "\n",
    "- West Garfield Park\n",
    "- East Garfield Park\n",
    "- Near West Side\n",
    "- Fifth City\n",
    "- Tri-Taylor\n",
    "- Greektown\n",
    "- Douglas Park\n",
    "\n",
    "> 28th Ward Household Income\n",
    "- 33.2%  make less than 25k a year. \n",
    "- 20.9%  make between 25k-50k a year. \n",
    "\n",
    "> 28th Ward Race/Ethnicity \n",
    "- 49.6% Black\n",
    "- 22.5% Hispanic\n",
    "- 18.6% White\n",
    "- 6.9% Asian.\n",
    "\n",
    "The racial composition of the 28th ward is mostly composed of Black residents(49.6%), followed by Hispanics (22.5%) and White residents (18.6%). In the 28th ward, about 33% of the households are making below the poverty line of 25k. \n",
    "\n",
    "***2. The 27th ward ranks high for reported crimes and reported serious crimes. Its aldermanic boundaries covers the neighborhoods of:***\n",
    "\n",
    "- Humboldt Park\n",
    "- Smith Park\n",
    "- East Garfield Park\n",
    "- Illinois Medical District \n",
    "- Fulton Market District\n",
    "- River West \n",
    "- Cabrini-Green \n",
    "\n",
    "> 27th Ward Household Income\n",
    "- 37.8% make over 125k a year\n",
    "- 20% make between 75k-125k \n",
    "- 19.5% make under 25k a year\n",
    "\n",
    "> 27th Ward Race/Ethnicity \n",
    "- 46.5% of its residents are White,\n",
    "- 26.1% Black, \n",
    "- 14.3% Hispanic\n",
    "- 9.5% Asian.\n",
    "\n",
    "The 27th ward is interesting. The racial make up of the ward is diverse in comparison to other wards. Although it is predominately White, about a quarter of its residents are black and the minority groups are Hispanic and Asians that account for approximately 15% and 10% respectively.  \n",
    "\n",
    "Household income is also interesting. In the ward, about 40% of its households make over 125k a year, 20% make between 75k-125k, and about 20% of its households make less than 25k a year. The ward is predomitaley upper class but 1/5th of its residents are also on the lower tier of the income bracket making less than 25k.\n",
    "\n",
    "\n",
    "***3. The 6th ward experiences high volumes of serious crimes and homicides. It is composed of :***\n",
    "- Englewood\n",
    "- Chatham\n",
    "- Greater Grand Crossing\n",
    "\n",
    "> 6th Ward Households Income \n",
    "- 40.7% make under 25k, \n",
    "- 23.0%\tmake between 25k - 50k.\n",
    "\n",
    "> 6th Ward Race/Ethnicity \n",
    "- 95.6% Black \n",
    "- 1.3% Hispanic \n",
    "- 0.8% White \n",
    "- 0.3% Asian\n",
    "\n",
    "In the 6th ward, 40% of its households make an income below 25k, and 23% of the households make low income or lower middle class income. The ward is not racially diverse. About 96% of its residents are Black. \n",
    "\n",
    "***4. The 24th ward experienced the second most homicides in the last 5 years. It is composed of:***\n",
    "\n",
    "- Homan Square\n",
    "- Lawndale\n",
    "- North Lawndale\n",
    "- Douglas Park \n",
    "- Marshall Square\n",
    "\n",
    "> 24th Ward Households Income \n",
    "- 41.9% make less than 25k\n",
    "- 27.7% make between 25k - 50k.\n",
    "\n",
    "> 24th Ward Race/Ethnicity\n",
    "- 64.7% Black \n",
    "- 27.5% Hispanic \n",
    "- 6.1% White \n",
    "- 0.5% Asian\n",
    "\n",
    "The 24th ward shares similarities with that of the 6th ward in which aproximately 40% of its residents are making about or less than 25k. About 27.7% of income in the ward is classified as lower class and lower middle class in the 25k-50k range. The ward is predominately Black (64.7%) and Hispanic (27.5%). \n",
    "\n",
    "***5. The 8th ward is in the top 5 for both serious crimes and homicides. It's neighborhoods are:***\n",
    "\n",
    "- Grand Crossing\n",
    "- Avalon Park\n",
    "- Burnside\n",
    "- Cottage Grove Heights\n",
    "- Calmut Heights\n",
    "\n",
    "> 8th Ward Households Income \n",
    "- 28.7% of its households make under 25k \n",
    "- 25% make between 25k - 50k \n",
    "\n",
    "> 8th Ward Race/Ethnicity\n",
    "- Black 96.3%\n",
    "- White 1.2%\n",
    "- Hispanic 1.1%\n",
    "- Asian 0.3%\n",
    "\n",
    "In the 8th ward, 3/10th of its residents make less than 25k while 1/4 make between 25k-50k. The ward is majority Black(96.3%)."
   ]
  },
  {
   "cell_type": "markdown",
   "id": "992f012b",
   "metadata": {},
   "source": [
    "## Observations "
   ]
  },
  {
   "cell_type": "markdown",
   "id": "8d5d5c54",
   "metadata": {},
   "source": [
    "The wards that experience the most serious crimes and homicides have many household incomes that are below 25k. Many wards that experience such volumes of crimes and homicides have about 30% of its households earning below 25k. Moreover, these wards are predominately Black.\n",
    "\n",
    "The exception to the list is the 27th ward. The ward reports high volumes of crimes and serious crimes, but it's income groups are mostly composed of populations below the poverty line (19.5%), the upper middle class (20%), and upper class (37.8%).\n",
    "\n",
    "\n"
   ]
  },
  {
   "cell_type": "markdown",
   "id": "8caf4afa",
   "metadata": {},
   "source": [
    "# At what Time and Month Does Crime Mostly Occur?"
   ]
  },
  {
   "cell_type": "code",
   "execution_count": 101,
   "id": "0708e266",
   "metadata": {},
   "outputs": [],
   "source": [
    "time = five_yr_crimes['Date'].dt.hour #extracting the hour\n",
    "time_count = time.value_counts() #summing the total count of values per hour "
   ]
  },
  {
   "cell_type": "code",
   "execution_count": 102,
   "id": "45d4ee1f",
   "metadata": {
    "scrolled": true
   },
   "outputs": [],
   "source": [
    "hourly_crimes_df = pd.DataFrame(time_count)\n",
    "hourly_crimes_df = hourly_crimes_df.reset_index()\n",
    "hourly_crimes_df_copy = hourly_crimes_df.copy()"
   ]
  },
  {
   "cell_type": "code",
   "execution_count": 103,
   "id": "b9149135",
   "metadata": {
    "scrolled": true
   },
   "outputs": [],
   "source": [
    "hourly_crimes_df  = hourly_crimes_df.sort_values(by='index')"
   ]
  },
  {
   "cell_type": "code",
   "execution_count": 104,
   "id": "4088e03b",
   "metadata": {
    "scrolled": true
   },
   "outputs": [
    {
     "data": {
      "text/html": [
       "<div>\n",
       "<style scoped>\n",
       "    .dataframe tbody tr th:only-of-type {\n",
       "        vertical-align: middle;\n",
       "    }\n",
       "\n",
       "    .dataframe tbody tr th {\n",
       "        vertical-align: top;\n",
       "    }\n",
       "\n",
       "    .dataframe thead th {\n",
       "        text-align: right;\n",
       "    }\n",
       "</style>\n",
       "<table border=\"1\" class=\"dataframe\">\n",
       "  <thead>\n",
       "    <tr style=\"text-align: right;\">\n",
       "      <th></th>\n",
       "      <th>Hour</th>\n",
       "      <th>Reported_Crimes</th>\n",
       "    </tr>\n",
       "  </thead>\n",
       "  <tbody>\n",
       "    <tr>\n",
       "      <th>0</th>\n",
       "      <td>0</td>\n",
       "      <td>85122</td>\n",
       "    </tr>\n",
       "    <tr>\n",
       "      <th>17</th>\n",
       "      <td>1</td>\n",
       "      <td>38976</td>\n",
       "    </tr>\n",
       "    <tr>\n",
       "      <th>18</th>\n",
       "      <td>2</td>\n",
       "      <td>34422</td>\n",
       "    </tr>\n",
       "    <tr>\n",
       "      <th>19</th>\n",
       "      <td>3</td>\n",
       "      <td>29075</td>\n",
       "    </tr>\n",
       "    <tr>\n",
       "      <th>21</th>\n",
       "      <td>4</td>\n",
       "      <td>23729</td>\n",
       "    </tr>\n",
       "    <tr>\n",
       "      <th>23</th>\n",
       "      <td>5</td>\n",
       "      <td>20499</td>\n",
       "    </tr>\n",
       "    <tr>\n",
       "      <th>22</th>\n",
       "      <td>6</td>\n",
       "      <td>21566</td>\n",
       "    </tr>\n",
       "    <tr>\n",
       "      <th>20</th>\n",
       "      <td>7</td>\n",
       "      <td>28539</td>\n",
       "    </tr>\n",
       "    <tr>\n",
       "      <th>16</th>\n",
       "      <td>8</td>\n",
       "      <td>39623</td>\n",
       "    </tr>\n",
       "    <tr>\n",
       "      <th>14</th>\n",
       "      <td>9</td>\n",
       "      <td>50796</td>\n",
       "    </tr>\n",
       "    <tr>\n",
       "      <th>13</th>\n",
       "      <td>10</td>\n",
       "      <td>51731</td>\n",
       "    </tr>\n",
       "    <tr>\n",
       "      <th>12</th>\n",
       "      <td>11</td>\n",
       "      <td>52218</td>\n",
       "    </tr>\n",
       "    <tr>\n",
       "      <th>1</th>\n",
       "      <td>12</td>\n",
       "      <td>69414</td>\n",
       "    </tr>\n",
       "    <tr>\n",
       "      <th>10</th>\n",
       "      <td>13</td>\n",
       "      <td>54043</td>\n",
       "    </tr>\n",
       "    <tr>\n",
       "      <th>8</th>\n",
       "      <td>14</td>\n",
       "      <td>56381</td>\n",
       "    </tr>\n",
       "    <tr>\n",
       "      <th>2</th>\n",
       "      <td>15</td>\n",
       "      <td>63082</td>\n",
       "    </tr>\n",
       "    <tr>\n",
       "      <th>4</th>\n",
       "      <td>16</td>\n",
       "      <td>61965</td>\n",
       "    </tr>\n",
       "    <tr>\n",
       "      <th>3</th>\n",
       "      <td>17</td>\n",
       "      <td>63031</td>\n",
       "    </tr>\n",
       "    <tr>\n",
       "      <th>5</th>\n",
       "      <td>18</td>\n",
       "      <td>61915</td>\n",
       "    </tr>\n",
       "    <tr>\n",
       "      <th>6</th>\n",
       "      <td>19</td>\n",
       "      <td>60337</td>\n",
       "    </tr>\n",
       "    <tr>\n",
       "      <th>7</th>\n",
       "      <td>20</td>\n",
       "      <td>59391</td>\n",
       "    </tr>\n",
       "    <tr>\n",
       "      <th>9</th>\n",
       "      <td>21</td>\n",
       "      <td>55131</td>\n",
       "    </tr>\n",
       "    <tr>\n",
       "      <th>11</th>\n",
       "      <td>22</td>\n",
       "      <td>53083</td>\n",
       "    </tr>\n",
       "    <tr>\n",
       "      <th>15</th>\n",
       "      <td>23</td>\n",
       "      <td>47658</td>\n",
       "    </tr>\n",
       "  </tbody>\n",
       "</table>\n",
       "</div>"
      ],
      "text/plain": [
       "    Hour  Reported_Crimes\n",
       "0      0            85122\n",
       "17     1            38976\n",
       "18     2            34422\n",
       "19     3            29075\n",
       "21     4            23729\n",
       "23     5            20499\n",
       "22     6            21566\n",
       "20     7            28539\n",
       "16     8            39623\n",
       "14     9            50796\n",
       "13    10            51731\n",
       "12    11            52218\n",
       "1     12            69414\n",
       "10    13            54043\n",
       "8     14            56381\n",
       "2     15            63082\n",
       "4     16            61965\n",
       "3     17            63031\n",
       "5     18            61915\n",
       "6     19            60337\n",
       "7     20            59391\n",
       "9     21            55131\n",
       "11    22            53083\n",
       "15    23            47658"
      ]
     },
     "execution_count": 104,
     "metadata": {},
     "output_type": "execute_result"
    }
   ],
   "source": [
    "hourly_crimes_df = hourly_crimes_df.rename(columns={'Date': 'Reported_Crimes', 'index': 'Hour'})\n",
    "hourly_crimes_df"
   ]
  },
  {
   "cell_type": "code",
   "execution_count": 292,
   "id": "fbe7a144",
   "metadata": {},
   "outputs": [
    {
     "data": {
      "text/plain": [
       "15708"
      ]
     },
     "execution_count": 292,
     "metadata": {},
     "output_type": "execute_result"
    }
   ],
   "source": [
    "hourly_crimes_df.iloc[0,1] - hourly_crimes_df.iloc[12,1] #difference of reported crime"
   ]
  },
  {
   "cell_type": "code",
   "execution_count": 544,
   "id": "bef69923",
   "metadata": {},
   "outputs": [
    {
     "data": {
      "image/png": "[encoded data removed]",
      "text/plain": [
       "<Figure size 1900x700 with 1 Axes>"
      ]
     },
     "metadata": {},
     "output_type": "display_data"
    }
   ],
   "source": [
    "barh_hc_offenses = hourly_crimes_df['Reported_Crimes']\n",
    "barh_hc_hours = hourly_crimes_df['Hour'].sort_values()\n",
    "x = barh_hc_hours \n",
    "xlabel = (['12am','1am','2am','3am','4am','5am','6am','7am','8am','9am','10am','11am','12pm','1pm','2pm','3pm','4pm','5pm','6pm','7pm','8pm','9pm','10pm','11pm'])\n",
    "fig, ax = plt.subplots(figsize = (19,7))\n",
    "ax.set_xticks(x, labels = xlabel )\n",
    "offense_bar = ax.bar(x = x , height = barh_hc_offenses, align='center', width = 0.6, color = 'cornflowerblue', zorder=2)\n",
    "ax.text(x = -2.7 ,y= 100000 ,s= 'Most Crimes in Chicago are Reported at Midnight', fontsize = 'xx-large', fontweight = 'semibold')\n",
    "ax.text(x = -2.7 ,y= 95000, s = 'In the Span of 5 years, Data Shows that Most Crimes are Reported at Midnight and at Noon', fontsize = 'large')\n",
    "ax.tick_params(bottom=False, left = False)\n",
    "ax.tick_params(axis='x', colors='grey')\n",
    "ax.tick_params(axis='y', colors='grey')\n",
    "for location in ['left', 'right', 'bottom', 'top']:\n",
    "    ax.spines[location].set_visible(False)\n",
    "ax.set_facecolor('whitesmoke')\n",
    "ax.grid(color='darkgray',visible=True,linewidth=.3, zorder=1)\n",
    "plt.show()\n",
    "\n",
    "#graphs times are not in order "
   ]
  },
  {
   "cell_type": "markdown",
   "id": "fca759f5",
   "metadata": {},
   "source": [
    "Looking at all crimes within the last 4 years, the data shows that most crime is reported at midnight with a count of 85,122 . Crime is least reported in the morning, specifically at 5am, with a count of 20,499 . The range is 64,623.\n",
    "\n"
   ]
  },
  {
   "cell_type": "markdown",
   "id": "9605803b",
   "metadata": {},
   "source": [
    "## Serious Crimes "
   ]
  },
  {
   "cell_type": "code",
   "execution_count": 296,
   "id": "ef0f7bbd",
   "metadata": {
    "scrolled": false
   },
   "outputs": [
    {
     "name": "stdout",
     "output_type": "stream",
     "text": [
      "0     19684\n",
      "18    16469\n",
      "17    16378\n",
      "19    16060\n",
      "20    15978\n",
      "16    15576\n",
      "15    15547\n",
      "21    15368\n",
      "22    15202\n",
      "12    13944\n",
      "23    13426\n",
      "14    13412\n",
      "13    12165\n",
      "11    11624\n",
      "10    11342\n",
      "9     10957\n",
      "1     10653\n",
      "2      9878\n",
      "8      9825\n",
      "3      8747\n",
      "7      8030\n",
      "4      7782\n",
      "5      6990\n",
      "6      6814\n",
      "Name: Date, dtype: int64\n"
     ]
    }
   ],
   "source": [
    "time_scrimes= five_yr_scrimes['Date'].dt.hour\n",
    "print(time_scrimes.value_counts())"
   ]
  },
  {
   "cell_type": "markdown",
   "id": "ea4b05a9",
   "metadata": {},
   "source": [
    "Regarding serious crimes, most reports happen at midnight and the least reports are at 6 in the morning. Most serious crimes happen between 5pm to 10pm. Serious crimes are least reported in the morning between 4am and 6am. "
   ]
  },
  {
   "cell_type": "markdown",
   "id": "35b25a99",
   "metadata": {},
   "source": [
    "## Homicides"
   ]
  },
  {
   "cell_type": "code",
   "execution_count": 110,
   "id": "6eee04ea",
   "metadata": {},
   "outputs": [
    {
     "name": "stdout",
     "output_type": "stream",
     "text": [
      "0     206\n",
      "21    204\n",
      "20    202\n",
      "1     201\n",
      "23    200\n",
      "22    196\n",
      "2     193\n",
      "17    188\n",
      "15    188\n",
      "18    183\n",
      "19    182\n",
      "16    174\n",
      "3     153\n",
      "14    144\n",
      "13    135\n",
      "12    133\n",
      "4     120\n",
      "5     103\n",
      "7      89\n",
      "6      86\n",
      "11     84\n",
      "9      75\n",
      "10     64\n",
      "8      54\n",
      "Name: Date, dtype: int64\n"
     ]
    }
   ],
   "source": [
    "time_homicides = five_yr_homicides['Date'].dt.hour\n",
    "print(time_homicides.value_counts())"
   ]
  },
  {
   "cell_type": "markdown",
   "id": "ebcc56ef",
   "metadata": {},
   "source": [
    "Most homicide reports occur at between 9pm and 2 am. The least reported time is at 8 in the morning. "
   ]
  },
  {
   "cell_type": "markdown",
   "id": "66954b41",
   "metadata": {},
   "source": [
    "# In Which Months Do Most Crimes and Homicides Take Place?"
   ]
  },
  {
   "cell_type": "code",
   "execution_count": 532,
   "id": "e6474a1b",
   "metadata": {},
   "outputs": [],
   "source": [
    "month = five_yr_crimes['Date'].dt.month\n",
    "#isolating month from datetime"
   ]
  },
  {
   "cell_type": "code",
   "execution_count": 531,
   "id": "90a25998",
   "metadata": {
    "scrolled": false
   },
   "outputs": [
    {
     "name": "stdout",
     "output_type": "stream",
     "text": [
      "7     109298\n",
      "8     107922\n",
      "10    106461\n",
      "9     105041\n",
      "6     103208\n",
      "5     100837\n",
      "11     95881\n",
      "12     94416\n",
      "3      93026\n",
      "1      92815\n",
      "4      87838\n",
      "2      84984\n",
      "Name: Date, dtype: int64\n"
     ]
    }
   ],
   "source": [
    "month_count = month.value_counts()\n",
    "print(month_count)"
   ]
  },
  {
   "cell_type": "code",
   "execution_count": 390,
   "id": "7e86b6a9",
   "metadata": {
    "scrolled": false
   },
   "outputs": [
    {
     "data": {
      "text/html": [
       "<div>\n",
       "<style scoped>\n",
       "    .dataframe tbody tr th:only-of-type {\n",
       "        vertical-align: middle;\n",
       "    }\n",
       "\n",
       "    .dataframe tbody tr th {\n",
       "        vertical-align: top;\n",
       "    }\n",
       "\n",
       "    .dataframe thead th {\n",
       "        text-align: right;\n",
       "    }\n",
       "</style>\n",
       "<table border=\"1\" class=\"dataframe\">\n",
       "  <thead>\n",
       "    <tr style=\"text-align: right;\">\n",
       "      <th></th>\n",
       "      <th>Month</th>\n",
       "      <th>Count</th>\n",
       "    </tr>\n",
       "  </thead>\n",
       "  <tbody>\n",
       "    <tr>\n",
       "      <th>0</th>\n",
       "      <td>7</td>\n",
       "      <td>109298</td>\n",
       "    </tr>\n",
       "    <tr>\n",
       "      <th>1</th>\n",
       "      <td>8</td>\n",
       "      <td>107922</td>\n",
       "    </tr>\n",
       "    <tr>\n",
       "      <th>2</th>\n",
       "      <td>10</td>\n",
       "      <td>106461</td>\n",
       "    </tr>\n",
       "    <tr>\n",
       "      <th>3</th>\n",
       "      <td>9</td>\n",
       "      <td>105041</td>\n",
       "    </tr>\n",
       "    <tr>\n",
       "      <th>4</th>\n",
       "      <td>6</td>\n",
       "      <td>103208</td>\n",
       "    </tr>\n",
       "    <tr>\n",
       "      <th>5</th>\n",
       "      <td>5</td>\n",
       "      <td>100837</td>\n",
       "    </tr>\n",
       "    <tr>\n",
       "      <th>6</th>\n",
       "      <td>11</td>\n",
       "      <td>95881</td>\n",
       "    </tr>\n",
       "    <tr>\n",
       "      <th>7</th>\n",
       "      <td>12</td>\n",
       "      <td>94416</td>\n",
       "    </tr>\n",
       "    <tr>\n",
       "      <th>8</th>\n",
       "      <td>3</td>\n",
       "      <td>93026</td>\n",
       "    </tr>\n",
       "    <tr>\n",
       "      <th>9</th>\n",
       "      <td>1</td>\n",
       "      <td>92815</td>\n",
       "    </tr>\n",
       "    <tr>\n",
       "      <th>10</th>\n",
       "      <td>4</td>\n",
       "      <td>87838</td>\n",
       "    </tr>\n",
       "    <tr>\n",
       "      <th>11</th>\n",
       "      <td>2</td>\n",
       "      <td>84984</td>\n",
       "    </tr>\n",
       "  </tbody>\n",
       "</table>\n",
       "</div>"
      ],
      "text/plain": [
       "    Month   Count\n",
       "0       7  109298\n",
       "1       8  107922\n",
       "2      10  106461\n",
       "3       9  105041\n",
       "4       6  103208\n",
       "5       5  100837\n",
       "6      11   95881\n",
       "7      12   94416\n",
       "8       3   93026\n",
       "9       1   92815\n",
       "10      4   87838\n",
       "11      2   84984"
      ]
     },
     "execution_count": 390,
     "metadata": {},
     "output_type": "execute_result"
    }
   ],
   "source": [
    "month_count_df = pd.DataFrame(month_count)\n",
    "month_count_df= month_count_df .reset_index()\n",
    "month_count_df= month_count_df.rename(columns={'index': 'Month'})\n",
    "month_count_df= month_count_df.rename(columns={'Date': 'Count'})\n",
    "month_count_df['Count']= month_count_df['Count'].sort_values(ascending = False)\n",
    "month_count_df"
   ]
  },
  {
   "cell_type": "code",
   "execution_count": 530,
   "id": "6b44a707",
   "metadata": {
    "scrolled": false
   },
   "outputs": [
    {
     "name": "stderr",
     "output_type": "stream",
     "text": [
      "/var/folders/tg/44q7hwts7n96248gzc1xgf3m0000gn/T/ipykernel_3027/3283880655.py:10: UserWarning: FixedFormatter should only be used together with FixedLocator\n",
      "  ax.set_xticklabels(['0','20,000','40,000','60,000','80,000','100,000','120,000'])\n"
     ]
    },
    {
     "data": {
      "image/png": "[encoded data removed]",
      "text/plain": [
       "<Figure size 600x800 with 1 Axes>"
      ]
     },
     "metadata": {},
     "output_type": "display_data"
    },
    {
     "name": "stdout",
     "output_type": "stream",
     "text": [
      "In the last 5 years, the average for reported crimes per month is 98477.25\n",
      "In the last 5 years, the median for reported crimes per month is 98359.0\n"
     ]
    }
   ],
   "source": [
    "barh_crimes_month = month_count_df['Month']\n",
    "barh_crimes_count = month_count_df['Count']\n",
    "months_ybar = (['Jul','Aug','Oct','Sep','Jun','May','Nov','Dec','Mar','Jan','Apr','Feb'])\n",
    "fig, ax = plt.subplots(figsize = (6,8))\n",
    "ax.barh(barh_crimes_month,barh_crimes_count,\n",
    "        height=0.75,\n",
    "        color= 'darkorange')\n",
    "ax.set_yticks(barh_crimes_month)\n",
    "ax.set_yticklabels(months_ybar)\n",
    "ax.set_xticklabels(['0','20,000','40,000','60,000','80,000','100,000','120,000'])\n",
    "ax.text(x = -10000 ,y= -1.3 ,s= 'Reported Crime in Chicago Increases in Warmer Weather', fontsize = 'xx-large', fontweight = 'semibold')\n",
    "ax.text(x = -10000 ,y= -.8, s = 'In the last 5 years, most reported crime happens between May and October', fontsize = 'large')\n",
    "ax.invert_yaxis()\n",
    "ax.xaxis.tick_top()\n",
    "ax.tick_params(left=False)\n",
    "ax.tick_params(axis='x', colors='grey')\n",
    "ax.tick_params(axis='y', colors='grey')\n",
    "for location in ['left', 'right', 'bottom', 'top']:\n",
    "    ax.spines[location].set_visible(False)\n",
    "ax.axvline(x=98477.25,ymin=0.045,c='grey', alpha=0.5, linewidth= 1)\n",
    "plt.show()\n",
    "print(\"In the last 5 years, the average for reported crimes per month is\",month_count_df['Count'].mean())\n",
    "print(\"In the last 5 years, the median for reported crimes per month is\",month_count_df['Count'].median())"
   ]
  },
  {
   "cell_type": "markdown",
   "id": "edc09c63",
   "metadata": {},
   "source": [
    "## Monthly Homicides "
   ]
  },
  {
   "cell_type": "code",
   "execution_count": 460,
   "id": "37726d13",
   "metadata": {
    "scrolled": true
   },
   "outputs": [
    {
     "data": {
      "text/plain": [
       "7     423\n",
       "6     391\n",
       "9     349\n",
       "5     339\n",
       "8     333\n",
       "10    305\n",
       "11    277\n",
       "4     270\n",
       "12    253\n",
       "1     224\n",
       "3     199\n",
       "2     194\n",
       "Name: Date, dtype: int64"
      ]
     },
     "execution_count": 460,
     "metadata": {},
     "output_type": "execute_result"
    }
   ],
   "source": [
    "monthly_hom = five_yr_homicides['Date'].dt.month\n",
    "monthly_hom_count = monthly_hom.value_counts()\n",
    "monthly_hom_count"
   ]
  },
  {
   "cell_type": "markdown",
   "id": "42da872b",
   "metadata": {},
   "source": [
    "## Monthly Homicide Table"
   ]
  },
  {
   "cell_type": "code",
   "execution_count": 470,
   "id": "b9f03ca7",
   "metadata": {
    "scrolled": false
   },
   "outputs": [
    {
     "data": {
      "text/html": [
       "<div>\n",
       "<style scoped>\n",
       "    .dataframe tbody tr th:only-of-type {\n",
       "        vertical-align: middle;\n",
       "    }\n",
       "\n",
       "    .dataframe tbody tr th {\n",
       "        vertical-align: top;\n",
       "    }\n",
       "\n",
       "    .dataframe thead th {\n",
       "        text-align: right;\n",
       "    }\n",
       "</style>\n",
       "<table border=\"1\" class=\"dataframe\">\n",
       "  <thead>\n",
       "    <tr style=\"text-align: right;\">\n",
       "      <th></th>\n",
       "      <th>Month</th>\n",
       "      <th>Count</th>\n",
       "    </tr>\n",
       "  </thead>\n",
       "  <tbody>\n",
       "    <tr>\n",
       "      <th>0</th>\n",
       "      <td>7</td>\n",
       "      <td>423</td>\n",
       "    </tr>\n",
       "    <tr>\n",
       "      <th>1</th>\n",
       "      <td>6</td>\n",
       "      <td>391</td>\n",
       "    </tr>\n",
       "    <tr>\n",
       "      <th>2</th>\n",
       "      <td>9</td>\n",
       "      <td>349</td>\n",
       "    </tr>\n",
       "    <tr>\n",
       "      <th>3</th>\n",
       "      <td>5</td>\n",
       "      <td>339</td>\n",
       "    </tr>\n",
       "    <tr>\n",
       "      <th>4</th>\n",
       "      <td>8</td>\n",
       "      <td>333</td>\n",
       "    </tr>\n",
       "    <tr>\n",
       "      <th>5</th>\n",
       "      <td>10</td>\n",
       "      <td>305</td>\n",
       "    </tr>\n",
       "    <tr>\n",
       "      <th>6</th>\n",
       "      <td>11</td>\n",
       "      <td>277</td>\n",
       "    </tr>\n",
       "    <tr>\n",
       "      <th>7</th>\n",
       "      <td>4</td>\n",
       "      <td>270</td>\n",
       "    </tr>\n",
       "    <tr>\n",
       "      <th>8</th>\n",
       "      <td>12</td>\n",
       "      <td>253</td>\n",
       "    </tr>\n",
       "    <tr>\n",
       "      <th>9</th>\n",
       "      <td>1</td>\n",
       "      <td>224</td>\n",
       "    </tr>\n",
       "    <tr>\n",
       "      <th>10</th>\n",
       "      <td>3</td>\n",
       "      <td>199</td>\n",
       "    </tr>\n",
       "    <tr>\n",
       "      <th>11</th>\n",
       "      <td>2</td>\n",
       "      <td>194</td>\n",
       "    </tr>\n",
       "  </tbody>\n",
       "</table>\n",
       "</div>"
      ],
      "text/plain": [
       "    Month  Count\n",
       "0       7    423\n",
       "1       6    391\n",
       "2       9    349\n",
       "3       5    339\n",
       "4       8    333\n",
       "5      10    305\n",
       "6      11    277\n",
       "7       4    270\n",
       "8      12    253\n",
       "9       1    224\n",
       "10      3    199\n",
       "11      2    194"
      ]
     },
     "execution_count": 470,
     "metadata": {},
     "output_type": "execute_result"
    }
   ],
   "source": [
    "monthly_hom_count_df = pd.DataFrame(monthly_hom_count)\n",
    "monthly_hom_count_df= monthly_hom_count_df.reset_index()\n",
    "monthly_hom_count_df= monthly_hom_count_df.rename(columns={'index': 'Month'})\n",
    "monthly_hom_count_df= monthly_hom_count_df.rename(columns={'Date': 'Count'})\n",
    "monthly_hom_count_df['Count']= monthly_hom_count_df['Count'].sort_values(ascending = False)\n",
    "montahly_hom_count_df"
   ]
  },
  {
   "cell_type": "code",
   "execution_count": 537,
   "id": "aa0744b1",
   "metadata": {},
   "outputs": [
    {
     "data": {
      "image/png": "[encoded data removed]",
      "text/plain": [
       "<Figure size 600x800 with 1 Axes>"
      ]
     },
     "metadata": {},
     "output_type": "display_data"
    },
    {
     "name": "stdout",
     "output_type": "stream",
     "text": [
      "The average reported monthly homicide in the last 5 years is 296.4166666666667\n"
     ]
    }
   ],
   "source": [
    "barh_hom_month = monthly_hom_count_df['Month']\n",
    "barh_hom_count = monthly_hom_count_df['Count']\n",
    "months_ylabel = (['Jul','Jun','Sep','May','Aug','Oct','Nov','Apr','Dec','Jan','Mar','Feb'])\n",
    "fig, ax = plt.subplots(figsize = (6,8))\n",
    "ax.barh(barh_hom_month,barh_hom_count,\n",
    "        height=0.75,\n",
    "        color= 'firebrick')\n",
    "ax.set_yticks(barh_hom_month)\n",
    "ax.set_yticklabels(months_ylabel)\n",
    "ax.text(x = -30 ,y= -1.3 ,s= 'Homicides in Chicago Increase in Warmer Weather', fontsize = 'xx-large', fontweight = 'semibold')\n",
    "ax.text(x = -28 ,y= -.9, s = 'Over the last 5 years, June and July experienced the most homicides ', fontsize = 'large')\n",
    "ax.invert_yaxis()\n",
    "ax.xaxis.tick_top()\n",
    "ax.tick_params(left=False)\n",
    "ax.tick_params(axis='x', colors='grey')\n",
    "ax.tick_params(axis='y', colors='grey')\n",
    "for location in ['left', 'right', 'bottom', 'top']:\n",
    "    ax.spines[location].set_visible(False)\n",
    "plt.show()\n",
    "print(\"The average reported monthly homicide in the last 5 years is\", monthly_hom_count_df['Count'].mean())"
   ]
  },
  {
   "cell_type": "code",
   "execution_count": 511,
   "id": "68f57466",
   "metadata": {},
   "outputs": [
    {
     "data": {
      "text/plain": [
       "FIRST DEGREE MURDER         3528\n",
       "RECKLESS HOMICIDE             27\n",
       "INVOLUNTARY MANSLAUGHTER       1\n",
       "SECOND DEGREE MURDER           1\n",
       "Name: Description, dtype: int64"
      ]
     },
     "execution_count": 511,
     "metadata": {},
     "output_type": "execute_result"
    }
   ],
   "source": [
    "#Homicide Descriptions\n",
    "five_yr_homicides['Description'].value_counts()"
   ]
  },
  {
   "cell_type": "code",
   "execution_count": 542,
   "id": "1b894dbb",
   "metadata": {},
   "outputs": [
    {
     "data": {
      "text/plain": [
       "STREET           1925\n",
       "APARTMENT         301\n",
       "AUTO              230\n",
       "ALLEY             222\n",
       "HOUSE             145\n",
       "PARKING LOT       110\n",
       "YARD              107\n",
       "PORCH              95\n",
       "GAS STATION        46\n",
       "PARK PROPERTY      46\n",
       "Name: Location Description, dtype: int64"
      ]
     },
     "execution_count": 542,
     "metadata": {},
     "output_type": "execute_result"
    }
   ],
   "source": [
    "#Where do homicides take place ?\n",
    "five_yr_homicides['Location Description'].value_counts().head(10)"
   ]
  },
  {
   "cell_type": "markdown",
   "id": "d0f5eff5",
   "metadata": {},
   "source": [
    "# Findings"
   ]
  },
  {
   "cell_type": "markdown",
   "id": "eeb8fec4",
   "metadata": {},
   "source": [
    "The goals of the  **Exploratory Data Analysis** on crime in Chicago from 2020 to 2024 are to : \n",
    "1. Document the most common type of crime \n",
    "\n",
    "2. Explore the correlation of crime to time and month \n",
    "\n",
    "3. Report on the frequency of serious crime and homicides\n",
    "    \n",
    "4. Identifying Crime Frequency of Chicago neighborhoods using Aldermanic Ward data\n",
    "\n",
    " "
   ]
  },
  {
   "cell_type": "markdown",
   "id": "5ad99dca",
   "metadata": {},
   "source": [
    "We have found that :\n",
    "- Chicago arrests increased since its 2021 decline. As of 2024, arrests were up by 32% since 2021\n",
    "- In Chicago, less than half of homicides lead to arrests\n",
    "- Over the last 5 years(2020-2024) the most reported crimes were in the following order: Theft, Battery, Criminal Damage, Assault, and Motor Vehicle Theft\n",
    "- Since 2020, Homicides in Chicago have been decreasing. As of 2024, homicides are down by 26.5%\n",
    "- The most reported **Serious crimes** in the last 5 years are Assault, Motor Vehicle Theft, Robbery, and Burglary. The top 2 most reported are Assault(35%) and Motor Vehicle Theft(30.8%)\n",
    "    - Of the top 3, Motor Vehicle Theft surged, robbery has increased since 2020 and then decreased in 2023, and Assault is on a steady incline.\n",
    "- Most crimes are reported at midnight\n",
    "- Most serious crimes are reported at midnight\n",
    "- Most homicides occur between 9pm and 2am\n",
    "- Reported crime increases in warmer weather, roughly between May and October\n",
    "- Reported homicides increase over the summer, particularly in June and July "
   ]
  },
  {
   "cell_type": "markdown",
   "id": "81e9797c",
   "metadata": {},
   "source": [
    "# Discourse"
   ]
  },
  {
   "cell_type": "markdown",
   "id": "89aebe1a",
   "metadata": {},
   "source": [
    "To reasonably analyze crime data in Chicago, one must be familiar with the association between crime and poverty and the structure of the Chicago landscape. First, it is important to know that  \"Chicago is one of the most segregated cities in the United States\"(Serrato et al., 2022). This means that communities are predimonately composed of people of the same race and/or social class. \n",
    "\n",
    "In regards to poverty, according to 2024 Poverty Guidelines by the U.S. Department of Health and Human Services, any household with a family size of 2 earning 20,440 dollars annually are considered at the poverty line. A household with a family size of 3 is at the poverty line at 25,820 dollars in annual income (2024 Poverty Guidelines: 48 Contiguous States (all states except Alaska and Hawaii)).\n",
    "\n",
    "In this study, the information provided by the Chicago Recovery Plan does not specify household size. Therefore, it is difficult to discern how many households earn at or below the poverty line. Nevertheless, one can assume that there are households living in poverty within the percentage of households making less than 25k. \n",
    "\n",
    "This information is crucial for understanding the context of crimes and poverty. According to U.S. Department of Justice, \"persons living in poor households at or below the Federal Poverty Level had more than double the\n",
    "rate of violent victimization as persons in high-income households\"(Harrell et al., 2014). Nonetheless, although a link between violent crime and poverty can be attributed, the literature for such a link between non-violent crime and poverty is minimal. "
   ]
  },
  {
   "cell_type": "markdown",
   "id": "3335588b",
   "metadata": {},
   "source": [
    "# References"
   ]
  },
  {
   "cell_type": "markdown",
   "id": "4a9b76eb",
   "metadata": {},
   "source": [
    "Chicago, C. of. (n.d.). Chicago Recovery Plan. https://chirecoveryplan.com/ \n",
    "\n",
    "Chicago alderman. Illinois Policy. (2016, April 20). https://www.illinoispolicy.org/maps/chicago-alderman/ \n",
    "\n",
    "Federal Bureau of Investigation . (2019, September 13). Offense Definitions. FBI: UCR. Retrieved From https://ucr.fbi.gov/crime-in-the-u.s/2019/crime-in-the-u.s.-2019/topic-pages/offense-definitions \n",
    "\n",
    "Harrell, E., Langton, L., Berzofsky, M., Couzens, L., & Smiley-McDonald, H. (2014, November). Household Poverty and Nonfatal Violent Victimization , 2008-2012. Bureau of Justice Statistics. Retrieved From: https://bjs.ojp.gov/content/pub/pdf/hpnvv0812.pdf \n",
    "\n",
    "Serrato, J., Sier, P., & Runes, C. (2022, February 24). Mapping Chicago’s racial segregation: FIRSTHAND: Segregation. Mapping Chicago’s Racial Segregation. Retrieved From: https://www.wttw.com/firsthand/segregation/mapping-chicago-racial-segregation \n",
    "\n",
    "\n",
    "U.S. Department of Health and Human Services, Office of the Assistant Secretary for Planning and Evaluation. (2024). 2024 Poverty Guidelines: 48 Contiguous States (all states except Alaska and Hawaii). Retrieved From: https://aspe.hhs.gov/sites/default/files/documents/7240229f28375f54435c5b83a3764cd1/detailed-guidelines-2024.pdf\n"
   ]
  },
  {
   "cell_type": "code",
   "execution_count": null,
   "id": "0cb10605",
   "metadata": {},
   "outputs": [],
   "source": []
  }
 ],
 "metadata": {
  "kernelspec": {
   "display_name": "Python 3 (ipykernel)",
   "language": "python",
   "name": "python3"
  },
  "language_info": {
   "codemirror_mode": {
    "name": "ipython",
    "version": 3
   },
   "file_extension": ".py",
   "mimetype": "text/x-python",
   "name": "python",
   "nbconvert_exporter": "python",
   "pygments_lexer": "ipython3",
   "version": "3.11.3"
  }
 },
 "nbformat": 4,
 "nbformat_minor": 5
}
